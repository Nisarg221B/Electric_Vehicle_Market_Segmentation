{
 "cells": [
  {
   "cell_type": "code",
   "execution_count": 64,
   "id": "54279400",
   "metadata": {},
   "outputs": [],
   "source": [
    "import pandas as pd\n",
    "import numpy as np\n",
    "import matplotlib.pyplot as plt\n",
    "import seaborn as sns"
   ]
  },
  {
   "cell_type": "code",
   "execution_count": 65,
   "id": "84c72454",
   "metadata": {},
   "outputs": [],
   "source": [
    "df1 =  pd.read_csv('108.csv')"
   ]
  },
  {
   "cell_type": "code",
   "execution_count": 66,
   "id": "fb744645",
   "metadata": {},
   "outputs": [],
   "source": [
    "df2 = pd.read_csv('109.csv')"
   ]
  },
  {
   "cell_type": "code",
   "execution_count": 67,
   "id": "d6668e3e",
   "metadata": {},
   "outputs": [
    {
     "data": {
      "text/html": [
       "<div>\n",
       "<style scoped>\n",
       "    .dataframe tbody tr th:only-of-type {\n",
       "        vertical-align: middle;\n",
       "    }\n",
       "\n",
       "    .dataframe tbody tr th {\n",
       "        vertical-align: top;\n",
       "    }\n",
       "\n",
       "    .dataframe thead th {\n",
       "        text-align: right;\n",
       "    }\n",
       "</style>\n",
       "<table border=\"1\" class=\"dataframe\">\n",
       "  <thead>\n",
       "    <tr style=\"text-align: right;\">\n",
       "      <th></th>\n",
       "      <th>review</th>\n",
       "      <th>Used it for</th>\n",
       "      <th>Owned for</th>\n",
       "      <th>Ridden for</th>\n",
       "      <th>rating</th>\n",
       "      <th>Visual Appeal</th>\n",
       "      <th>Reliability</th>\n",
       "      <th>Performance</th>\n",
       "      <th>Service Experience</th>\n",
       "      <th>Extra Features</th>\n",
       "      <th>Comfort</th>\n",
       "      <th>Maintenance cost</th>\n",
       "      <th>Value for Money</th>\n",
       "      <th>Model Name</th>\n",
       "    </tr>\n",
       "  </thead>\n",
       "  <tbody>\n",
       "    <tr>\n",
       "      <th>0</th>\n",
       "      <td>We all checked the bike's capacity to be 150 k...</td>\n",
       "      <td>Daily Commute</td>\n",
       "      <td>Never owned</td>\n",
       "      <td>NaN</td>\n",
       "      <td>1</td>\n",
       "      <td>3.0</td>\n",
       "      <td>4.0</td>\n",
       "      <td>NaN</td>\n",
       "      <td>NaN</td>\n",
       "      <td>NaN</td>\n",
       "      <td>4.0</td>\n",
       "      <td>NaN</td>\n",
       "      <td>1.0</td>\n",
       "      <td>TVS iQube</td>\n",
       "    </tr>\n",
       "    <tr>\n",
       "      <th>1</th>\n",
       "      <td>Performance is very poor on this bike. The cha...</td>\n",
       "      <td>Everything</td>\n",
       "      <td>&gt; 1 yr</td>\n",
       "      <td>&lt; 5000 kms</td>\n",
       "      <td>1</td>\n",
       "      <td>3.0</td>\n",
       "      <td>1.0</td>\n",
       "      <td>NaN</td>\n",
       "      <td>1.0</td>\n",
       "      <td>NaN</td>\n",
       "      <td>3.0</td>\n",
       "      <td>NaN</td>\n",
       "      <td>3.0</td>\n",
       "      <td>TVS iQube</td>\n",
       "    </tr>\n",
       "    <tr>\n",
       "      <th>2</th>\n",
       "      <td>I purchased this in April 2022 and the sales s...</td>\n",
       "      <td>Daily Commute</td>\n",
       "      <td>&lt; 3 months</td>\n",
       "      <td>&lt; 5000 kms</td>\n",
       "      <td>3</td>\n",
       "      <td>4.0</td>\n",
       "      <td>4.0</td>\n",
       "      <td>NaN</td>\n",
       "      <td>2.0</td>\n",
       "      <td>NaN</td>\n",
       "      <td>5.0</td>\n",
       "      <td>NaN</td>\n",
       "      <td>2.0</td>\n",
       "      <td>TVS iQube</td>\n",
       "    </tr>\n",
       "    <tr>\n",
       "      <th>3</th>\n",
       "      <td>If any issues come in scooty parts not availab...</td>\n",
       "      <td>Daily Commute</td>\n",
       "      <td>6 months-1 yr</td>\n",
       "      <td>5000-10000 kms</td>\n",
       "      <td>1</td>\n",
       "      <td>1.0</td>\n",
       "      <td>1.0</td>\n",
       "      <td>NaN</td>\n",
       "      <td>1.0</td>\n",
       "      <td>NaN</td>\n",
       "      <td>1.0</td>\n",
       "      <td>NaN</td>\n",
       "      <td>1.0</td>\n",
       "      <td>TVS iQube</td>\n",
       "    </tr>\n",
       "    <tr>\n",
       "      <th>4</th>\n",
       "      <td>Don't buy this vehicle unless you have a near ...</td>\n",
       "      <td>Daily Commute</td>\n",
       "      <td>6 months-1 yr</td>\n",
       "      <td>&lt; 5000 kms</td>\n",
       "      <td>1</td>\n",
       "      <td>3.0</td>\n",
       "      <td>4.0</td>\n",
       "      <td>NaN</td>\n",
       "      <td>1.0</td>\n",
       "      <td>NaN</td>\n",
       "      <td>3.0</td>\n",
       "      <td>NaN</td>\n",
       "      <td>2.0</td>\n",
       "      <td>TVS iQube</td>\n",
       "    </tr>\n",
       "  </tbody>\n",
       "</table>\n",
       "</div>"
      ],
      "text/plain": [
       "                                              review    Used it for  \\\n",
       "0  We all checked the bike's capacity to be 150 k...  Daily Commute   \n",
       "1  Performance is very poor on this bike. The cha...     Everything   \n",
       "2  I purchased this in April 2022 and the sales s...  Daily Commute   \n",
       "3  If any issues come in scooty parts not availab...  Daily Commute   \n",
       "4  Don't buy this vehicle unless you have a near ...  Daily Commute   \n",
       "\n",
       "       Owned for      Ridden for  rating  Visual Appeal  Reliability  \\\n",
       "0    Never owned             NaN       1            3.0          4.0   \n",
       "1         > 1 yr      < 5000 kms       1            3.0          1.0   \n",
       "2     < 3 months      < 5000 kms       3            4.0          4.0   \n",
       "3  6 months-1 yr  5000-10000 kms       1            1.0          1.0   \n",
       "4  6 months-1 yr      < 5000 kms       1            3.0          4.0   \n",
       "\n",
       "   Performance  Service Experience  Extra Features  Comfort  Maintenance cost  \\\n",
       "0          NaN                 NaN             NaN      4.0               NaN   \n",
       "1          NaN                 1.0             NaN      3.0               NaN   \n",
       "2          NaN                 2.0             NaN      5.0               NaN   \n",
       "3          NaN                 1.0             NaN      1.0               NaN   \n",
       "4          NaN                 1.0             NaN      3.0               NaN   \n",
       "\n",
       "   Value for Money Model Name  \n",
       "0              1.0  TVS iQube  \n",
       "1              3.0  TVS iQube  \n",
       "2              2.0  TVS iQube  \n",
       "3              1.0  TVS iQube  \n",
       "4              2.0  TVS iQube  "
      ]
     },
     "execution_count": 67,
     "metadata": {},
     "output_type": "execute_result"
    }
   ],
   "source": [
    "df1.head(5)"
   ]
  },
  {
   "cell_type": "code",
   "execution_count": 68,
   "id": "671958fd",
   "metadata": {},
   "outputs": [
    {
     "data": {
      "text/html": [
       "<div>\n",
       "<style scoped>\n",
       "    .dataframe tbody tr th:only-of-type {\n",
       "        vertical-align: middle;\n",
       "    }\n",
       "\n",
       "    .dataframe tbody tr th {\n",
       "        vertical-align: top;\n",
       "    }\n",
       "\n",
       "    .dataframe thead th {\n",
       "        text-align: right;\n",
       "    }\n",
       "</style>\n",
       "<table border=\"1\" class=\"dataframe\">\n",
       "  <thead>\n",
       "    <tr style=\"text-align: right;\">\n",
       "      <th></th>\n",
       "      <th>review</th>\n",
       "      <th>Exterior</th>\n",
       "      <th>Comfort</th>\n",
       "      <th>Performance</th>\n",
       "      <th>Fuel Economy</th>\n",
       "      <th>Value for Money</th>\n",
       "      <th>Condition</th>\n",
       "      <th>driven</th>\n",
       "      <th>rating</th>\n",
       "      <th>model_name</th>\n",
       "    </tr>\n",
       "  </thead>\n",
       "  <tbody>\n",
       "    <tr>\n",
       "      <th>0</th>\n",
       "      <td>Superb car like as fantastic as petroleum car....</td>\n",
       "      <td>5.0</td>\n",
       "      <td>4.0</td>\n",
       "      <td>5.0</td>\n",
       "      <td>5.0</td>\n",
       "      <td>5.0</td>\n",
       "      <td>New</td>\n",
       "      <td>Few hundred kilometers</td>\n",
       "      <td>5.0</td>\n",
       "      <td>hyundai kona</td>\n",
       "    </tr>\n",
       "    <tr>\n",
       "      <th>1</th>\n",
       "      <td>Anti national, worst service, worst customer c...</td>\n",
       "      <td>1.0</td>\n",
       "      <td>1.0</td>\n",
       "      <td>1.0</td>\n",
       "      <td>1.0</td>\n",
       "      <td>1.0</td>\n",
       "      <td>New</td>\n",
       "      <td>Haven't driven it</td>\n",
       "      <td>0.0</td>\n",
       "      <td>hyundai kona</td>\n",
       "    </tr>\n",
       "    <tr>\n",
       "      <th>2</th>\n",
       "      <td>Super happy with it. The car is too good</td>\n",
       "      <td>4.0</td>\n",
       "      <td>5.0</td>\n",
       "      <td>5.0</td>\n",
       "      <td>5.0</td>\n",
       "      <td>4.0</td>\n",
       "      <td>New</td>\n",
       "      <td>Few thousand kilometers</td>\n",
       "      <td>5.0</td>\n",
       "      <td>hyundai kona</td>\n",
       "    </tr>\n",
       "    <tr>\n",
       "      <th>3</th>\n",
       "      <td>Pretty good car, smooth as a glider fast car, ...</td>\n",
       "      <td>5.0</td>\n",
       "      <td>5.0</td>\n",
       "      <td>5.0</td>\n",
       "      <td>5.0</td>\n",
       "      <td>5.0</td>\n",
       "      <td>New</td>\n",
       "      <td>Few thousand kilometers</td>\n",
       "      <td>5.0</td>\n",
       "      <td>hyundai kona</td>\n",
       "    </tr>\n",
       "    <tr>\n",
       "      <th>4</th>\n",
       "      <td>Price difference between petrol and electronic...</td>\n",
       "      <td>4.0</td>\n",
       "      <td>4.0</td>\n",
       "      <td>5.0</td>\n",
       "      <td>3.0</td>\n",
       "      <td>2.0</td>\n",
       "      <td>Not Purchased</td>\n",
       "      <td>Haven't driven it</td>\n",
       "      <td>3.0</td>\n",
       "      <td>hyundai kona</td>\n",
       "    </tr>\n",
       "  </tbody>\n",
       "</table>\n",
       "</div>"
      ],
      "text/plain": [
       "                                              review  Exterior  Comfort  \\\n",
       "0  Superb car like as fantastic as petroleum car....       5.0      4.0   \n",
       "1  Anti national, worst service, worst customer c...       1.0      1.0   \n",
       "2           Super happy with it. The car is too good       4.0      5.0   \n",
       "3  Pretty good car, smooth as a glider fast car, ...       5.0      5.0   \n",
       "4  Price difference between petrol and electronic...       4.0      4.0   \n",
       "\n",
       "   Performance  Fuel Economy  Value for Money      Condition  \\\n",
       "0          5.0           5.0              5.0            New   \n",
       "1          1.0           1.0              1.0            New   \n",
       "2          5.0           5.0              4.0            New   \n",
       "3          5.0           5.0              5.0            New   \n",
       "4          5.0           3.0              2.0  Not Purchased   \n",
       "\n",
       "                    driven  rating    model_name  \n",
       "0   Few hundred kilometers     5.0  hyundai kona  \n",
       "1        Haven't driven it     0.0  hyundai kona  \n",
       "2  Few thousand kilometers     5.0  hyundai kona  \n",
       "3  Few thousand kilometers     5.0  hyundai kona  \n",
       "4        Haven't driven it     3.0  hyundai kona  "
      ]
     },
     "execution_count": 68,
     "metadata": {},
     "output_type": "execute_result"
    }
   ],
   "source": [
    "df2.head(5)"
   ]
  },
  {
   "cell_type": "code",
   "execution_count": 69,
   "id": "6630f171",
   "metadata": {},
   "outputs": [],
   "source": [
    "df1 = df1.drop(columns =['review','Used it for','Owned for','Reliability','Service Experience','Extra Features','Maintenance cost'],axis=0)"
   ]
  },
  {
   "cell_type": "code",
   "execution_count": 70,
   "id": "562b39f0",
   "metadata": {},
   "outputs": [
    {
     "data": {
      "text/html": [
       "<div>\n",
       "<style scoped>\n",
       "    .dataframe tbody tr th:only-of-type {\n",
       "        vertical-align: middle;\n",
       "    }\n",
       "\n",
       "    .dataframe tbody tr th {\n",
       "        vertical-align: top;\n",
       "    }\n",
       "\n",
       "    .dataframe thead th {\n",
       "        text-align: right;\n",
       "    }\n",
       "</style>\n",
       "<table border=\"1\" class=\"dataframe\">\n",
       "  <thead>\n",
       "    <tr style=\"text-align: right;\">\n",
       "      <th></th>\n",
       "      <th>Ridden for</th>\n",
       "      <th>rating</th>\n",
       "      <th>Visual Appeal</th>\n",
       "      <th>Performance</th>\n",
       "      <th>Comfort</th>\n",
       "      <th>Value for Money</th>\n",
       "      <th>Model Name</th>\n",
       "    </tr>\n",
       "  </thead>\n",
       "  <tbody>\n",
       "    <tr>\n",
       "      <th>0</th>\n",
       "      <td>NaN</td>\n",
       "      <td>1</td>\n",
       "      <td>3.0</td>\n",
       "      <td>NaN</td>\n",
       "      <td>4.0</td>\n",
       "      <td>1.0</td>\n",
       "      <td>TVS iQube</td>\n",
       "    </tr>\n",
       "    <tr>\n",
       "      <th>1</th>\n",
       "      <td>&lt; 5000 kms</td>\n",
       "      <td>1</td>\n",
       "      <td>3.0</td>\n",
       "      <td>NaN</td>\n",
       "      <td>3.0</td>\n",
       "      <td>3.0</td>\n",
       "      <td>TVS iQube</td>\n",
       "    </tr>\n",
       "    <tr>\n",
       "      <th>2</th>\n",
       "      <td>&lt; 5000 kms</td>\n",
       "      <td>3</td>\n",
       "      <td>4.0</td>\n",
       "      <td>NaN</td>\n",
       "      <td>5.0</td>\n",
       "      <td>2.0</td>\n",
       "      <td>TVS iQube</td>\n",
       "    </tr>\n",
       "  </tbody>\n",
       "</table>\n",
       "</div>"
      ],
      "text/plain": [
       "   Ridden for  rating  Visual Appeal  Performance  Comfort  Value for Money  \\\n",
       "0         NaN       1            3.0          NaN      4.0              1.0   \n",
       "1  < 5000 kms       1            3.0          NaN      3.0              3.0   \n",
       "2  < 5000 kms       3            4.0          NaN      5.0              2.0   \n",
       "\n",
       "  Model Name  \n",
       "0  TVS iQube  \n",
       "1  TVS iQube  \n",
       "2  TVS iQube  "
      ]
     },
     "execution_count": 70,
     "metadata": {},
     "output_type": "execute_result"
    }
   ],
   "source": [
    "df1.head(3)"
   ]
  },
  {
   "cell_type": "code",
   "execution_count": 71,
   "id": "a9ead417",
   "metadata": {},
   "outputs": [
    {
     "data": {
      "text/html": [
       "<div>\n",
       "<style scoped>\n",
       "    .dataframe tbody tr th:only-of-type {\n",
       "        vertical-align: middle;\n",
       "    }\n",
       "\n",
       "    .dataframe tbody tr th {\n",
       "        vertical-align: top;\n",
       "    }\n",
       "\n",
       "    .dataframe thead th {\n",
       "        text-align: right;\n",
       "    }\n",
       "</style>\n",
       "<table border=\"1\" class=\"dataframe\">\n",
       "  <thead>\n",
       "    <tr style=\"text-align: right;\">\n",
       "      <th></th>\n",
       "      <th>review</th>\n",
       "      <th>Exterior</th>\n",
       "      <th>Comfort</th>\n",
       "      <th>Performance</th>\n",
       "      <th>Fuel Economy</th>\n",
       "      <th>Value for Money</th>\n",
       "      <th>Condition</th>\n",
       "      <th>driven</th>\n",
       "      <th>rating</th>\n",
       "      <th>model_name</th>\n",
       "    </tr>\n",
       "  </thead>\n",
       "  <tbody>\n",
       "    <tr>\n",
       "      <th>0</th>\n",
       "      <td>Superb car like as fantastic as petroleum car....</td>\n",
       "      <td>5.0</td>\n",
       "      <td>4.0</td>\n",
       "      <td>5.0</td>\n",
       "      <td>5.0</td>\n",
       "      <td>5.0</td>\n",
       "      <td>New</td>\n",
       "      <td>Few hundred kilometers</td>\n",
       "      <td>5.0</td>\n",
       "      <td>hyundai kona</td>\n",
       "    </tr>\n",
       "    <tr>\n",
       "      <th>1</th>\n",
       "      <td>Anti national, worst service, worst customer c...</td>\n",
       "      <td>1.0</td>\n",
       "      <td>1.0</td>\n",
       "      <td>1.0</td>\n",
       "      <td>1.0</td>\n",
       "      <td>1.0</td>\n",
       "      <td>New</td>\n",
       "      <td>Haven't driven it</td>\n",
       "      <td>0.0</td>\n",
       "      <td>hyundai kona</td>\n",
       "    </tr>\n",
       "    <tr>\n",
       "      <th>2</th>\n",
       "      <td>Super happy with it. The car is too good</td>\n",
       "      <td>4.0</td>\n",
       "      <td>5.0</td>\n",
       "      <td>5.0</td>\n",
       "      <td>5.0</td>\n",
       "      <td>4.0</td>\n",
       "      <td>New</td>\n",
       "      <td>Few thousand kilometers</td>\n",
       "      <td>5.0</td>\n",
       "      <td>hyundai kona</td>\n",
       "    </tr>\n",
       "    <tr>\n",
       "      <th>3</th>\n",
       "      <td>Pretty good car, smooth as a glider fast car, ...</td>\n",
       "      <td>5.0</td>\n",
       "      <td>5.0</td>\n",
       "      <td>5.0</td>\n",
       "      <td>5.0</td>\n",
       "      <td>5.0</td>\n",
       "      <td>New</td>\n",
       "      <td>Few thousand kilometers</td>\n",
       "      <td>5.0</td>\n",
       "      <td>hyundai kona</td>\n",
       "    </tr>\n",
       "    <tr>\n",
       "      <th>4</th>\n",
       "      <td>Price difference between petrol and electronic...</td>\n",
       "      <td>4.0</td>\n",
       "      <td>4.0</td>\n",
       "      <td>5.0</td>\n",
       "      <td>3.0</td>\n",
       "      <td>2.0</td>\n",
       "      <td>Not Purchased</td>\n",
       "      <td>Haven't driven it</td>\n",
       "      <td>3.0</td>\n",
       "      <td>hyundai kona</td>\n",
       "    </tr>\n",
       "  </tbody>\n",
       "</table>\n",
       "</div>"
      ],
      "text/plain": [
       "                                              review  Exterior  Comfort  \\\n",
       "0  Superb car like as fantastic as petroleum car....       5.0      4.0   \n",
       "1  Anti national, worst service, worst customer c...       1.0      1.0   \n",
       "2           Super happy with it. The car is too good       4.0      5.0   \n",
       "3  Pretty good car, smooth as a glider fast car, ...       5.0      5.0   \n",
       "4  Price difference between petrol and electronic...       4.0      4.0   \n",
       "\n",
       "   Performance  Fuel Economy  Value for Money      Condition  \\\n",
       "0          5.0           5.0              5.0            New   \n",
       "1          1.0           1.0              1.0            New   \n",
       "2          5.0           5.0              4.0            New   \n",
       "3          5.0           5.0              5.0            New   \n",
       "4          5.0           3.0              2.0  Not Purchased   \n",
       "\n",
       "                    driven  rating    model_name  \n",
       "0   Few hundred kilometers     5.0  hyundai kona  \n",
       "1        Haven't driven it     0.0  hyundai kona  \n",
       "2  Few thousand kilometers     5.0  hyundai kona  \n",
       "3  Few thousand kilometers     5.0  hyundai kona  \n",
       "4        Haven't driven it     3.0  hyundai kona  "
      ]
     },
     "execution_count": 71,
     "metadata": {},
     "output_type": "execute_result"
    }
   ],
   "source": [
    "df2.head()"
   ]
  },
  {
   "cell_type": "code",
   "execution_count": 72,
   "id": "2aa3f64c",
   "metadata": {
    "scrolled": true
   },
   "outputs": [],
   "source": [
    "df2 = df2.drop(columns=['review','Fuel Economy','Condition'],axis=0)"
   ]
  },
  {
   "cell_type": "code",
   "execution_count": 73,
   "id": "7b38d743",
   "metadata": {},
   "outputs": [
    {
     "name": "stdout",
     "output_type": "stream",
     "text": [
      "Dataset-1\n"
     ]
    },
    {
     "data": {
      "text/html": [
       "<div>\n",
       "<style scoped>\n",
       "    .dataframe tbody tr th:only-of-type {\n",
       "        vertical-align: middle;\n",
       "    }\n",
       "\n",
       "    .dataframe tbody tr th {\n",
       "        vertical-align: top;\n",
       "    }\n",
       "\n",
       "    .dataframe thead th {\n",
       "        text-align: right;\n",
       "    }\n",
       "</style>\n",
       "<table border=\"1\" class=\"dataframe\">\n",
       "  <thead>\n",
       "    <tr style=\"text-align: right;\">\n",
       "      <th></th>\n",
       "      <th>Ridden for</th>\n",
       "      <th>rating</th>\n",
       "      <th>Visual Appeal</th>\n",
       "      <th>Performance</th>\n",
       "      <th>Comfort</th>\n",
       "      <th>Value for Money</th>\n",
       "      <th>Model Name</th>\n",
       "    </tr>\n",
       "  </thead>\n",
       "  <tbody>\n",
       "    <tr>\n",
       "      <th>0</th>\n",
       "      <td>NaN</td>\n",
       "      <td>1</td>\n",
       "      <td>3.0</td>\n",
       "      <td>NaN</td>\n",
       "      <td>4.0</td>\n",
       "      <td>1.0</td>\n",
       "      <td>TVS iQube</td>\n",
       "    </tr>\n",
       "    <tr>\n",
       "      <th>1</th>\n",
       "      <td>&lt; 5000 kms</td>\n",
       "      <td>1</td>\n",
       "      <td>3.0</td>\n",
       "      <td>NaN</td>\n",
       "      <td>3.0</td>\n",
       "      <td>3.0</td>\n",
       "      <td>TVS iQube</td>\n",
       "    </tr>\n",
       "    <tr>\n",
       "      <th>2</th>\n",
       "      <td>&lt; 5000 kms</td>\n",
       "      <td>3</td>\n",
       "      <td>4.0</td>\n",
       "      <td>NaN</td>\n",
       "      <td>5.0</td>\n",
       "      <td>2.0</td>\n",
       "      <td>TVS iQube</td>\n",
       "    </tr>\n",
       "  </tbody>\n",
       "</table>\n",
       "</div>"
      ],
      "text/plain": [
       "   Ridden for  rating  Visual Appeal  Performance  Comfort  Value for Money  \\\n",
       "0         NaN       1            3.0          NaN      4.0              1.0   \n",
       "1  < 5000 kms       1            3.0          NaN      3.0              3.0   \n",
       "2  < 5000 kms       3            4.0          NaN      5.0              2.0   \n",
       "\n",
       "  Model Name  \n",
       "0  TVS iQube  \n",
       "1  TVS iQube  \n",
       "2  TVS iQube  "
      ]
     },
     "execution_count": 73,
     "metadata": {},
     "output_type": "execute_result"
    }
   ],
   "source": [
    "print('Dataset-1')\n",
    "df1.head(3)\n"
   ]
  },
  {
   "cell_type": "code",
   "execution_count": 74,
   "id": "09869997",
   "metadata": {},
   "outputs": [
    {
     "name": "stdout",
     "output_type": "stream",
     "text": [
      "Dataset-2\n"
     ]
    },
    {
     "data": {
      "text/html": [
       "<div>\n",
       "<style scoped>\n",
       "    .dataframe tbody tr th:only-of-type {\n",
       "        vertical-align: middle;\n",
       "    }\n",
       "\n",
       "    .dataframe tbody tr th {\n",
       "        vertical-align: top;\n",
       "    }\n",
       "\n",
       "    .dataframe thead th {\n",
       "        text-align: right;\n",
       "    }\n",
       "</style>\n",
       "<table border=\"1\" class=\"dataframe\">\n",
       "  <thead>\n",
       "    <tr style=\"text-align: right;\">\n",
       "      <th></th>\n",
       "      <th>Exterior</th>\n",
       "      <th>Comfort</th>\n",
       "      <th>Performance</th>\n",
       "      <th>Value for Money</th>\n",
       "      <th>driven</th>\n",
       "      <th>rating</th>\n",
       "      <th>model_name</th>\n",
       "    </tr>\n",
       "  </thead>\n",
       "  <tbody>\n",
       "    <tr>\n",
       "      <th>0</th>\n",
       "      <td>5.0</td>\n",
       "      <td>4.0</td>\n",
       "      <td>5.0</td>\n",
       "      <td>5.0</td>\n",
       "      <td>Few hundred kilometers</td>\n",
       "      <td>5.0</td>\n",
       "      <td>hyundai kona</td>\n",
       "    </tr>\n",
       "    <tr>\n",
       "      <th>1</th>\n",
       "      <td>1.0</td>\n",
       "      <td>1.0</td>\n",
       "      <td>1.0</td>\n",
       "      <td>1.0</td>\n",
       "      <td>Haven't driven it</td>\n",
       "      <td>0.0</td>\n",
       "      <td>hyundai kona</td>\n",
       "    </tr>\n",
       "    <tr>\n",
       "      <th>2</th>\n",
       "      <td>4.0</td>\n",
       "      <td>5.0</td>\n",
       "      <td>5.0</td>\n",
       "      <td>4.0</td>\n",
       "      <td>Few thousand kilometers</td>\n",
       "      <td>5.0</td>\n",
       "      <td>hyundai kona</td>\n",
       "    </tr>\n",
       "  </tbody>\n",
       "</table>\n",
       "</div>"
      ],
      "text/plain": [
       "   Exterior  Comfort  Performance  Value for Money                   driven  \\\n",
       "0       5.0      4.0          5.0              5.0   Few hundred kilometers   \n",
       "1       1.0      1.0          1.0              1.0        Haven't driven it   \n",
       "2       4.0      5.0          5.0              4.0  Few thousand kilometers   \n",
       "\n",
       "   rating    model_name  \n",
       "0     5.0  hyundai kona  \n",
       "1     0.0  hyundai kona  \n",
       "2     5.0  hyundai kona  "
      ]
     },
     "execution_count": 74,
     "metadata": {},
     "output_type": "execute_result"
    }
   ],
   "source": [
    "print('Dataset-2')\n",
    "df2.head(3)"
   ]
  },
  {
   "cell_type": "code",
   "execution_count": 75,
   "id": "a479e176",
   "metadata": {},
   "outputs": [],
   "source": [
    "df2 = df2.rename(columns= {'Exterior' : 'Visual Appeal','model_name' : 'Model Name' , 'driven' : 'kms_travelled'})"
   ]
  },
  {
   "cell_type": "code",
   "execution_count": 76,
   "id": "c44f1a65",
   "metadata": {},
   "outputs": [],
   "source": [
    "df1 = df1.rename(columns= {'Ridden for' : 'kms_travelled'})"
   ]
  },
  {
   "cell_type": "code",
   "execution_count": 77,
   "id": "c4c21f6c",
   "metadata": {},
   "outputs": [
    {
     "data": {
      "text/html": [
       "<div>\n",
       "<style scoped>\n",
       "    .dataframe tbody tr th:only-of-type {\n",
       "        vertical-align: middle;\n",
       "    }\n",
       "\n",
       "    .dataframe tbody tr th {\n",
       "        vertical-align: top;\n",
       "    }\n",
       "\n",
       "    .dataframe thead th {\n",
       "        text-align: right;\n",
       "    }\n",
       "</style>\n",
       "<table border=\"1\" class=\"dataframe\">\n",
       "  <thead>\n",
       "    <tr style=\"text-align: right;\">\n",
       "      <th></th>\n",
       "      <th>kms_travelled</th>\n",
       "      <th>rating</th>\n",
       "      <th>Visual Appeal</th>\n",
       "      <th>Performance</th>\n",
       "      <th>Comfort</th>\n",
       "      <th>Value for Money</th>\n",
       "      <th>Model Name</th>\n",
       "    </tr>\n",
       "  </thead>\n",
       "  <tbody>\n",
       "    <tr>\n",
       "      <th>0</th>\n",
       "      <td>NaN</td>\n",
       "      <td>1</td>\n",
       "      <td>3.0</td>\n",
       "      <td>NaN</td>\n",
       "      <td>4.0</td>\n",
       "      <td>1.0</td>\n",
       "      <td>TVS iQube</td>\n",
       "    </tr>\n",
       "    <tr>\n",
       "      <th>1</th>\n",
       "      <td>&lt; 5000 kms</td>\n",
       "      <td>1</td>\n",
       "      <td>3.0</td>\n",
       "      <td>NaN</td>\n",
       "      <td>3.0</td>\n",
       "      <td>3.0</td>\n",
       "      <td>TVS iQube</td>\n",
       "    </tr>\n",
       "    <tr>\n",
       "      <th>2</th>\n",
       "      <td>&lt; 5000 kms</td>\n",
       "      <td>3</td>\n",
       "      <td>4.0</td>\n",
       "      <td>NaN</td>\n",
       "      <td>5.0</td>\n",
       "      <td>2.0</td>\n",
       "      <td>TVS iQube</td>\n",
       "    </tr>\n",
       "  </tbody>\n",
       "</table>\n",
       "</div>"
      ],
      "text/plain": [
       "  kms_travelled  rating  Visual Appeal  Performance  Comfort  Value for Money  \\\n",
       "0           NaN       1            3.0          NaN      4.0              1.0   \n",
       "1    < 5000 kms       1            3.0          NaN      3.0              3.0   \n",
       "2    < 5000 kms       3            4.0          NaN      5.0              2.0   \n",
       "\n",
       "  Model Name  \n",
       "0  TVS iQube  \n",
       "1  TVS iQube  \n",
       "2  TVS iQube  "
      ]
     },
     "execution_count": 77,
     "metadata": {},
     "output_type": "execute_result"
    }
   ],
   "source": [
    "df1.head(3)"
   ]
  },
  {
   "cell_type": "code",
   "execution_count": 78,
   "id": "82e6f46e",
   "metadata": {},
   "outputs": [
    {
     "data": {
      "text/html": [
       "<div>\n",
       "<style scoped>\n",
       "    .dataframe tbody tr th:only-of-type {\n",
       "        vertical-align: middle;\n",
       "    }\n",
       "\n",
       "    .dataframe tbody tr th {\n",
       "        vertical-align: top;\n",
       "    }\n",
       "\n",
       "    .dataframe thead th {\n",
       "        text-align: right;\n",
       "    }\n",
       "</style>\n",
       "<table border=\"1\" class=\"dataframe\">\n",
       "  <thead>\n",
       "    <tr style=\"text-align: right;\">\n",
       "      <th></th>\n",
       "      <th>Visual Appeal</th>\n",
       "      <th>Comfort</th>\n",
       "      <th>Performance</th>\n",
       "      <th>Value for Money</th>\n",
       "      <th>kms_travelled</th>\n",
       "      <th>rating</th>\n",
       "      <th>Model Name</th>\n",
       "    </tr>\n",
       "  </thead>\n",
       "  <tbody>\n",
       "    <tr>\n",
       "      <th>0</th>\n",
       "      <td>5.0</td>\n",
       "      <td>4.0</td>\n",
       "      <td>5.0</td>\n",
       "      <td>5.0</td>\n",
       "      <td>Few hundred kilometers</td>\n",
       "      <td>5.0</td>\n",
       "      <td>hyundai kona</td>\n",
       "    </tr>\n",
       "    <tr>\n",
       "      <th>1</th>\n",
       "      <td>1.0</td>\n",
       "      <td>1.0</td>\n",
       "      <td>1.0</td>\n",
       "      <td>1.0</td>\n",
       "      <td>Haven't driven it</td>\n",
       "      <td>0.0</td>\n",
       "      <td>hyundai kona</td>\n",
       "    </tr>\n",
       "    <tr>\n",
       "      <th>2</th>\n",
       "      <td>4.0</td>\n",
       "      <td>5.0</td>\n",
       "      <td>5.0</td>\n",
       "      <td>4.0</td>\n",
       "      <td>Few thousand kilometers</td>\n",
       "      <td>5.0</td>\n",
       "      <td>hyundai kona</td>\n",
       "    </tr>\n",
       "  </tbody>\n",
       "</table>\n",
       "</div>"
      ],
      "text/plain": [
       "   Visual Appeal  Comfort  Performance  Value for Money  \\\n",
       "0            5.0      4.0          5.0              5.0   \n",
       "1            1.0      1.0          1.0              1.0   \n",
       "2            4.0      5.0          5.0              4.0   \n",
       "\n",
       "             kms_travelled  rating    Model Name  \n",
       "0   Few hundred kilometers     5.0  hyundai kona  \n",
       "1        Haven't driven it     0.0  hyundai kona  \n",
       "2  Few thousand kilometers     5.0  hyundai kona  "
      ]
     },
     "execution_count": 78,
     "metadata": {},
     "output_type": "execute_result"
    }
   ],
   "source": [
    "df2.head(3)"
   ]
  },
  {
   "cell_type": "code",
   "execution_count": 79,
   "id": "b5e2b13c",
   "metadata": {},
   "outputs": [
    {
     "data": {
      "text/plain": [
       "array(['Few hundred kilometers', \"Haven't driven it\",\n",
       "       'Few thousand kilometers', 'Did a short drive once',\n",
       "       'Its my mate since ages'], dtype=object)"
      ]
     },
     "execution_count": 79,
     "metadata": {},
     "output_type": "execute_result"
    }
   ],
   "source": [
    "df2['kms_travelled'].unique()"
   ]
  },
  {
   "cell_type": "code",
   "execution_count": 80,
   "id": "652a054b",
   "metadata": {},
   "outputs": [
    {
     "data": {
      "text/plain": [
       "array([nan, '< 5000 kms', '5000-10000 kms', '> 15000 kms',\n",
       "       '10000-15000 kms', 'Never owned'], dtype=object)"
      ]
     },
     "execution_count": 80,
     "metadata": {},
     "output_type": "execute_result"
    }
   ],
   "source": [
    "df1['kms_travelled'].unique()"
   ]
  },
  {
   "cell_type": "code",
   "execution_count": 81,
   "id": "601dfe16",
   "metadata": {},
   "outputs": [],
   "source": [
    "df2['kms_travelled'] = df2['kms_travelled'].map({'Few hundred kilometers' : 500 , \"Haven't driven it\" : 0 ,'Few thousand kilometers' : 5000 ,'Did a short drive once' : 100,'Its my mate since ages' :150000 })"
   ]
  },
  {
   "cell_type": "code",
   "execution_count": 82,
   "id": "e4b5e1e4",
   "metadata": {},
   "outputs": [],
   "source": [
    "df1['kms_travelled'] = df1['kms_travelled'].map({'< 5000 kms' : 500 ,'5000-10000 kms' : 5000 , '> 15000 kms' : 25000 ,'10000-15000 kms' : 12000 , 'Never owned':0})"
   ]
  },
  {
   "cell_type": "code",
   "execution_count": 83,
   "id": "ca8f3ba2",
   "metadata": {},
   "outputs": [
    {
     "data": {
      "text/html": [
       "<div>\n",
       "<style scoped>\n",
       "    .dataframe tbody tr th:only-of-type {\n",
       "        vertical-align: middle;\n",
       "    }\n",
       "\n",
       "    .dataframe tbody tr th {\n",
       "        vertical-align: top;\n",
       "    }\n",
       "\n",
       "    .dataframe thead th {\n",
       "        text-align: right;\n",
       "    }\n",
       "</style>\n",
       "<table border=\"1\" class=\"dataframe\">\n",
       "  <thead>\n",
       "    <tr style=\"text-align: right;\">\n",
       "      <th></th>\n",
       "      <th>kms_travelled</th>\n",
       "      <th>rating</th>\n",
       "      <th>Visual Appeal</th>\n",
       "      <th>Performance</th>\n",
       "      <th>Comfort</th>\n",
       "      <th>Value for Money</th>\n",
       "      <th>Model Name</th>\n",
       "    </tr>\n",
       "  </thead>\n",
       "  <tbody>\n",
       "    <tr>\n",
       "      <th>0</th>\n",
       "      <td>NaN</td>\n",
       "      <td>1</td>\n",
       "      <td>3.0</td>\n",
       "      <td>NaN</td>\n",
       "      <td>4.0</td>\n",
       "      <td>1.0</td>\n",
       "      <td>TVS iQube</td>\n",
       "    </tr>\n",
       "    <tr>\n",
       "      <th>1</th>\n",
       "      <td>500.0</td>\n",
       "      <td>1</td>\n",
       "      <td>3.0</td>\n",
       "      <td>NaN</td>\n",
       "      <td>3.0</td>\n",
       "      <td>3.0</td>\n",
       "      <td>TVS iQube</td>\n",
       "    </tr>\n",
       "    <tr>\n",
       "      <th>2</th>\n",
       "      <td>500.0</td>\n",
       "      <td>3</td>\n",
       "      <td>4.0</td>\n",
       "      <td>NaN</td>\n",
       "      <td>5.0</td>\n",
       "      <td>2.0</td>\n",
       "      <td>TVS iQube</td>\n",
       "    </tr>\n",
       "  </tbody>\n",
       "</table>\n",
       "</div>"
      ],
      "text/plain": [
       "   kms_travelled  rating  Visual Appeal  Performance  Comfort  \\\n",
       "0            NaN       1            3.0          NaN      4.0   \n",
       "1          500.0       1            3.0          NaN      3.0   \n",
       "2          500.0       3            4.0          NaN      5.0   \n",
       "\n",
       "   Value for Money Model Name  \n",
       "0              1.0  TVS iQube  \n",
       "1              3.0  TVS iQube  \n",
       "2              2.0  TVS iQube  "
      ]
     },
     "execution_count": 83,
     "metadata": {},
     "output_type": "execute_result"
    }
   ],
   "source": [
    "df1.head(3)"
   ]
  },
  {
   "cell_type": "code",
   "execution_count": 84,
   "id": "d40320ef",
   "metadata": {},
   "outputs": [
    {
     "data": {
      "text/html": [
       "<div>\n",
       "<style scoped>\n",
       "    .dataframe tbody tr th:only-of-type {\n",
       "        vertical-align: middle;\n",
       "    }\n",
       "\n",
       "    .dataframe tbody tr th {\n",
       "        vertical-align: top;\n",
       "    }\n",
       "\n",
       "    .dataframe thead th {\n",
       "        text-align: right;\n",
       "    }\n",
       "</style>\n",
       "<table border=\"1\" class=\"dataframe\">\n",
       "  <thead>\n",
       "    <tr style=\"text-align: right;\">\n",
       "      <th></th>\n",
       "      <th>Visual Appeal</th>\n",
       "      <th>Comfort</th>\n",
       "      <th>Performance</th>\n",
       "      <th>Value for Money</th>\n",
       "      <th>kms_travelled</th>\n",
       "      <th>rating</th>\n",
       "      <th>Model Name</th>\n",
       "    </tr>\n",
       "  </thead>\n",
       "  <tbody>\n",
       "    <tr>\n",
       "      <th>0</th>\n",
       "      <td>5.0</td>\n",
       "      <td>4.0</td>\n",
       "      <td>5.0</td>\n",
       "      <td>5.0</td>\n",
       "      <td>500</td>\n",
       "      <td>5.0</td>\n",
       "      <td>hyundai kona</td>\n",
       "    </tr>\n",
       "    <tr>\n",
       "      <th>1</th>\n",
       "      <td>1.0</td>\n",
       "      <td>1.0</td>\n",
       "      <td>1.0</td>\n",
       "      <td>1.0</td>\n",
       "      <td>0</td>\n",
       "      <td>0.0</td>\n",
       "      <td>hyundai kona</td>\n",
       "    </tr>\n",
       "    <tr>\n",
       "      <th>2</th>\n",
       "      <td>4.0</td>\n",
       "      <td>5.0</td>\n",
       "      <td>5.0</td>\n",
       "      <td>4.0</td>\n",
       "      <td>5000</td>\n",
       "      <td>5.0</td>\n",
       "      <td>hyundai kona</td>\n",
       "    </tr>\n",
       "  </tbody>\n",
       "</table>\n",
       "</div>"
      ],
      "text/plain": [
       "   Visual Appeal  Comfort  Performance  Value for Money  kms_travelled  \\\n",
       "0            5.0      4.0          5.0              5.0            500   \n",
       "1            1.0      1.0          1.0              1.0              0   \n",
       "2            4.0      5.0          5.0              4.0           5000   \n",
       "\n",
       "   rating    Model Name  \n",
       "0     5.0  hyundai kona  \n",
       "1     0.0  hyundai kona  \n",
       "2     5.0  hyundai kona  "
      ]
     },
     "execution_count": 84,
     "metadata": {},
     "output_type": "execute_result"
    }
   ],
   "source": [
    "df2.head(3)"
   ]
  },
  {
   "cell_type": "code",
   "execution_count": 85,
   "id": "ad3b8410",
   "metadata": {},
   "outputs": [
    {
     "data": {
      "text/plain": [
       "array(['TVS iQube', 'Revolt RV 400', 'Bajaj Chetak', 'OLA S1 Pro',\n",
       "       'Ather 450X', 'Hero Electric Optima', 'Tork Kratos', 'OLA S1',\n",
       "       'Bounce Infinity E1', 'Hero Electric Optima CX',\n",
       "       'Hero Electric Flash', 'Ampere Magnus EX', 'Revolt RV 300',\n",
       "       'Hero Electric Photon', 'Okinawa Praise', 'Benling Aura',\n",
       "       'Ampere Magnus Pro', 'PURE EV EPluto 7G', 'Ampere REO',\n",
       "       'Odysse Evoqis', 'Hero Electric NYX HX', 'Okinawa i-Praise',\n",
       "       'Joy e-bike Monster', 'PURE EV ETrance Neo', 'Evolet Polo',\n",
       "       'Okinawa Ridge Plus', 'Ampere Zeal', 'Hero Electric Atria',\n",
       "       'Okinawa Lite', 'Hero Electric NYX', 'Okinawa R30', 'Yo Drift',\n",
       "       'BGauss B8', 'Joy e-bike Wolf', 'Gemopai Astrid Lite',\n",
       "       'Techo Electra Emerge', 'Techo Electra Raptor', 'e-bike Gen Nxt',\n",
       "       'Gemopai Ryder'], dtype=object)"
      ]
     },
     "execution_count": 85,
     "metadata": {},
     "output_type": "execute_result"
    }
   ],
   "source": [
    "df1['Model Name'].unique()"
   ]
  },
  {
   "cell_type": "code",
   "execution_count": 86,
   "id": "357b514c",
   "metadata": {},
   "outputs": [
    {
     "data": {
      "text/plain": [
       "array(['hyundai kona', 'tata nexon ev', 'tata tigor ev'], dtype=object)"
      ]
     },
     "execution_count": 86,
     "metadata": {},
     "output_type": "execute_result"
    }
   ],
   "source": [
    "df2['Model Name'].unique()"
   ]
  },
  {
   "cell_type": "code",
   "execution_count": 87,
   "id": "9e6016ab",
   "metadata": {},
   "outputs": [],
   "source": [
    "merged_dataset_108_109 = pd.concat([df1,df2])"
   ]
  },
  {
   "cell_type": "code",
   "execution_count": 88,
   "id": "b584dffe",
   "metadata": {},
   "outputs": [
    {
     "data": {
      "text/plain": [
       "(973, 7)"
      ]
     },
     "execution_count": 88,
     "metadata": {},
     "output_type": "execute_result"
    }
   ],
   "source": [
    "merged_dataset_108_109.shape"
   ]
  },
  {
   "cell_type": "code",
   "execution_count": 89,
   "id": "d7ee3982",
   "metadata": {},
   "outputs": [
    {
     "data": {
      "text/html": [
       "<div>\n",
       "<style scoped>\n",
       "    .dataframe tbody tr th:only-of-type {\n",
       "        vertical-align: middle;\n",
       "    }\n",
       "\n",
       "    .dataframe tbody tr th {\n",
       "        vertical-align: top;\n",
       "    }\n",
       "\n",
       "    .dataframe thead th {\n",
       "        text-align: right;\n",
       "    }\n",
       "</style>\n",
       "<table border=\"1\" class=\"dataframe\">\n",
       "  <thead>\n",
       "    <tr style=\"text-align: right;\">\n",
       "      <th></th>\n",
       "      <th>kms_travelled</th>\n",
       "      <th>rating</th>\n",
       "      <th>Visual Appeal</th>\n",
       "      <th>Performance</th>\n",
       "      <th>Comfort</th>\n",
       "      <th>Value for Money</th>\n",
       "      <th>Model Name</th>\n",
       "    </tr>\n",
       "  </thead>\n",
       "  <tbody>\n",
       "    <tr>\n",
       "      <th>0</th>\n",
       "      <td>NaN</td>\n",
       "      <td>1.0</td>\n",
       "      <td>3.0</td>\n",
       "      <td>NaN</td>\n",
       "      <td>4.0</td>\n",
       "      <td>1.0</td>\n",
       "      <td>TVS iQube</td>\n",
       "    </tr>\n",
       "    <tr>\n",
       "      <th>1</th>\n",
       "      <td>500.0</td>\n",
       "      <td>1.0</td>\n",
       "      <td>3.0</td>\n",
       "      <td>NaN</td>\n",
       "      <td>3.0</td>\n",
       "      <td>3.0</td>\n",
       "      <td>TVS iQube</td>\n",
       "    </tr>\n",
       "    <tr>\n",
       "      <th>2</th>\n",
       "      <td>500.0</td>\n",
       "      <td>3.0</td>\n",
       "      <td>4.0</td>\n",
       "      <td>NaN</td>\n",
       "      <td>5.0</td>\n",
       "      <td>2.0</td>\n",
       "      <td>TVS iQube</td>\n",
       "    </tr>\n",
       "    <tr>\n",
       "      <th>3</th>\n",
       "      <td>5000.0</td>\n",
       "      <td>1.0</td>\n",
       "      <td>1.0</td>\n",
       "      <td>NaN</td>\n",
       "      <td>1.0</td>\n",
       "      <td>1.0</td>\n",
       "      <td>TVS iQube</td>\n",
       "    </tr>\n",
       "    <tr>\n",
       "      <th>4</th>\n",
       "      <td>500.0</td>\n",
       "      <td>1.0</td>\n",
       "      <td>3.0</td>\n",
       "      <td>NaN</td>\n",
       "      <td>3.0</td>\n",
       "      <td>2.0</td>\n",
       "      <td>TVS iQube</td>\n",
       "    </tr>\n",
       "  </tbody>\n",
       "</table>\n",
       "</div>"
      ],
      "text/plain": [
       "   kms_travelled  rating  Visual Appeal  Performance  Comfort  \\\n",
       "0            NaN     1.0            3.0          NaN      4.0   \n",
       "1          500.0     1.0            3.0          NaN      3.0   \n",
       "2          500.0     3.0            4.0          NaN      5.0   \n",
       "3         5000.0     1.0            1.0          NaN      1.0   \n",
       "4          500.0     1.0            3.0          NaN      3.0   \n",
       "\n",
       "   Value for Money Model Name  \n",
       "0              1.0  TVS iQube  \n",
       "1              3.0  TVS iQube  \n",
       "2              2.0  TVS iQube  \n",
       "3              1.0  TVS iQube  \n",
       "4              2.0  TVS iQube  "
      ]
     },
     "execution_count": 89,
     "metadata": {},
     "output_type": "execute_result"
    }
   ],
   "source": [
    "merged_dataset_108_109.head(5)"
   ]
  },
  {
   "cell_type": "code",
   "execution_count": 90,
   "id": "92b45b9f",
   "metadata": {},
   "outputs": [
    {
     "data": {
      "text/plain": [
       "array(['TVS iQube', 'Revolt RV 400', 'Bajaj Chetak', 'OLA S1 Pro',\n",
       "       'Ather 450X', 'Hero Electric Optima', 'Tork Kratos', 'OLA S1',\n",
       "       'Bounce Infinity E1', 'Hero Electric Optima CX',\n",
       "       'Hero Electric Flash', 'Ampere Magnus EX', 'Revolt RV 300',\n",
       "       'Hero Electric Photon', 'Okinawa Praise', 'Benling Aura',\n",
       "       'Ampere Magnus Pro', 'PURE EV EPluto 7G', 'Ampere REO',\n",
       "       'Odysse Evoqis', 'Hero Electric NYX HX', 'Okinawa i-Praise',\n",
       "       'Joy e-bike Monster', 'PURE EV ETrance Neo', 'Evolet Polo',\n",
       "       'Okinawa Ridge Plus', 'Ampere Zeal', 'Hero Electric Atria',\n",
       "       'Okinawa Lite', 'Hero Electric NYX', 'Okinawa R30', 'Yo Drift',\n",
       "       'BGauss B8', 'Joy e-bike Wolf', 'Gemopai Astrid Lite',\n",
       "       'Techo Electra Emerge', 'Techo Electra Raptor', 'e-bike Gen Nxt',\n",
       "       'Gemopai Ryder', 'hyundai kona', 'tata nexon ev', 'tata tigor ev'],\n",
       "      dtype=object)"
      ]
     },
     "execution_count": 90,
     "metadata": {},
     "output_type": "execute_result"
    }
   ],
   "source": [
    "merged_dataset_108_109['Model Name'].unique()"
   ]
  },
  {
   "cell_type": "code",
   "execution_count": 91,
   "id": "e539ab93",
   "metadata": {},
   "outputs": [
    {
     "data": {
      "text/plain": [
       "kms_travelled      176\n",
       "rating               0\n",
       "Visual Appeal      105\n",
       "Performance        499\n",
       "Comfort            314\n",
       "Value for Money    454\n",
       "Model Name           0\n",
       "dtype: int64"
      ]
     },
     "execution_count": 91,
     "metadata": {},
     "output_type": "execute_result"
    }
   ],
   "source": [
    "merged_dataset_108_109.isnull().sum()"
   ]
  },
  {
   "cell_type": "code",
   "execution_count": 92,
   "id": "c790a509",
   "metadata": {},
   "outputs": [
    {
     "data": {
      "text/plain": [
       "(973, 7)"
      ]
     },
     "execution_count": 92,
     "metadata": {},
     "output_type": "execute_result"
    }
   ],
   "source": [
    "merged_dataset_108_109.shape"
   ]
  },
  {
   "cell_type": "code",
   "execution_count": 93,
   "id": "c3433228",
   "metadata": {},
   "outputs": [],
   "source": [
    "merged_dataset_108_109 = merged_dataset_108_109.dropna()"
   ]
  },
  {
   "cell_type": "code",
   "execution_count": 94,
   "id": "e87d38d2",
   "metadata": {},
   "outputs": [
    {
     "data": {
      "text/plain": [
       "(129, 7)"
      ]
     },
     "execution_count": 94,
     "metadata": {},
     "output_type": "execute_result"
    }
   ],
   "source": [
    "merged_dataset_108_109.shape"
   ]
  },
  {
   "cell_type": "code",
   "execution_count": 95,
   "id": "99decc93",
   "metadata": {},
   "outputs": [
    {
     "data": {
      "text/html": [
       "<div>\n",
       "<style scoped>\n",
       "    .dataframe tbody tr th:only-of-type {\n",
       "        vertical-align: middle;\n",
       "    }\n",
       "\n",
       "    .dataframe tbody tr th {\n",
       "        vertical-align: top;\n",
       "    }\n",
       "\n",
       "    .dataframe thead th {\n",
       "        text-align: right;\n",
       "    }\n",
       "</style>\n",
       "<table border=\"1\" class=\"dataframe\">\n",
       "  <thead>\n",
       "    <tr style=\"text-align: right;\">\n",
       "      <th></th>\n",
       "      <th>kms_travelled</th>\n",
       "      <th>rating</th>\n",
       "      <th>Visual Appeal</th>\n",
       "      <th>Performance</th>\n",
       "      <th>Comfort</th>\n",
       "      <th>Value for Money</th>\n",
       "      <th>Model Name</th>\n",
       "    </tr>\n",
       "  </thead>\n",
       "  <tbody>\n",
       "    <tr>\n",
       "      <th>0</th>\n",
       "      <td>500.0</td>\n",
       "      <td>5.0</td>\n",
       "      <td>5.0</td>\n",
       "      <td>5.0</td>\n",
       "      <td>4.0</td>\n",
       "      <td>5.0</td>\n",
       "      <td>hyundai kona</td>\n",
       "    </tr>\n",
       "    <tr>\n",
       "      <th>1</th>\n",
       "      <td>0.0</td>\n",
       "      <td>0.0</td>\n",
       "      <td>1.0</td>\n",
       "      <td>1.0</td>\n",
       "      <td>1.0</td>\n",
       "      <td>1.0</td>\n",
       "      <td>hyundai kona</td>\n",
       "    </tr>\n",
       "    <tr>\n",
       "      <th>2</th>\n",
       "      <td>5000.0</td>\n",
       "      <td>5.0</td>\n",
       "      <td>4.0</td>\n",
       "      <td>5.0</td>\n",
       "      <td>5.0</td>\n",
       "      <td>4.0</td>\n",
       "      <td>hyundai kona</td>\n",
       "    </tr>\n",
       "  </tbody>\n",
       "</table>\n",
       "</div>"
      ],
      "text/plain": [
       "   kms_travelled  rating  Visual Appeal  Performance  Comfort  \\\n",
       "0          500.0     5.0            5.0          5.0      4.0   \n",
       "1            0.0     0.0            1.0          1.0      1.0   \n",
       "2         5000.0     5.0            4.0          5.0      5.0   \n",
       "\n",
       "   Value for Money    Model Name  \n",
       "0              5.0  hyundai kona  \n",
       "1              1.0  hyundai kona  \n",
       "2              4.0  hyundai kona  "
      ]
     },
     "execution_count": 95,
     "metadata": {},
     "output_type": "execute_result"
    }
   ],
   "source": [
    "merged_dataset_108_109.head(3)"
   ]
  },
  {
   "cell_type": "code",
   "execution_count": 96,
   "id": "2d3af271",
   "metadata": {},
   "outputs": [],
   "source": [
    "merged_dataset_108_109.to_csv('Harsh Priyam-Cleaned-108_109 merge.csv')"
   ]
  },
  {
   "cell_type": "code",
   "execution_count": null,
   "id": "d986b1f2",
   "metadata": {},
   "outputs": [],
   "source": []
  }
 ],
 "metadata": {
  "kernelspec": {
   "display_name": "Python 3 (ipykernel)",
   "language": "python",
   "name": "python3"
  },
  "language_info": {
   "codemirror_mode": {
    "name": "ipython",
    "version": 3
   },
   "file_extension": ".py",
   "mimetype": "text/x-python",
   "name": "python",
   "nbconvert_exporter": "python",
   "pygments_lexer": "ipython3",
   "version": "3.9.13"
  }
 },
 "nbformat": 4,
 "nbformat_minor": 5
}
