{
 "cells": [
  {
   "cell_type": "code",
   "execution_count": 1,
   "id": "fc99197e",
   "metadata": {},
   "outputs": [],
   "source": [
    "#!pip install pandas_profiling"
   ]
  },
  {
   "cell_type": "code",
   "execution_count": 2,
   "id": "f9b442c3",
   "metadata": {},
   "outputs": [
    {
     "name": "stderr",
     "output_type": "stream",
     "text": [
      "C:\\Users\\ADMIN\\AppData\\Local\\Temp\\ipykernel_8792\\58495532.py:3: DeprecationWarning: `import pandas_profiling` is going to be deprecated by April 1st. Please use `import ydata_profiling` instead.\n",
      "  import pandas_profiling\n"
     ]
    }
   ],
   "source": [
    "import numpy as np \n",
    "import pandas as pd\n",
    "import pandas_profiling"
   ]
  },
  {
   "cell_type": "markdown",
   "id": "6b25eded",
   "metadata": {},
   "source": [
    "# Importing Datset 1"
   ]
  },
  {
   "cell_type": "code",
   "execution_count": 3,
   "id": "4c3d94ae",
   "metadata": {},
   "outputs": [],
   "source": [
    "df1 = pd.read_csv('104.csv')\n",
    "df1 = df1.drop(df1.columns[2:14], axis=1)"
   ]
  },
  {
   "cell_type": "code",
   "execution_count": 4,
   "id": "db173c72",
   "metadata": {},
   "outputs": [
    {
     "data": {
      "text/html": [
       "<div>\n",
       "<style scoped>\n",
       "    .dataframe tbody tr th:only-of-type {\n",
       "        vertical-align: middle;\n",
       "    }\n",
       "\n",
       "    .dataframe tbody tr th {\n",
       "        vertical-align: top;\n",
       "    }\n",
       "\n",
       "    .dataframe thead th {\n",
       "        text-align: right;\n",
       "    }\n",
       "</style>\n",
       "<table border=\"1\" class=\"dataframe\">\n",
       "  <thead>\n",
       "    <tr style=\"text-align: right;\">\n",
       "      <th></th>\n",
       "      <th>Category</th>\n",
       "      <th>Segment</th>\n",
       "      <th>2013-14</th>\n",
       "      <th>2014-15</th>\n",
       "    </tr>\n",
       "  </thead>\n",
       "  <tbody>\n",
       "    <tr>\n",
       "      <th>0</th>\n",
       "      <td>Passenger Vehicles (PVs)</td>\n",
       "      <td>Passenger Cars</td>\n",
       "      <td>2519281.0</td>\n",
       "      <td>2590917.0</td>\n",
       "    </tr>\n",
       "    <tr>\n",
       "      <th>1</th>\n",
       "      <td>Passenger Vehicles (PVs)</td>\n",
       "      <td>Multi-Utility Vehicles</td>\n",
       "      <td>568692.0</td>\n",
       "      <td>629255.0</td>\n",
       "    </tr>\n",
       "    <tr>\n",
       "      <th>2</th>\n",
       "      <td>Passenger Vehicles (PVs)</td>\n",
       "      <td>Total Passenger Vehicles (PVs)</td>\n",
       "      <td>3087973.0</td>\n",
       "      <td>3220172.0</td>\n",
       "    </tr>\n",
       "    <tr>\n",
       "      <th>3</th>\n",
       "      <td>Commercial Vehicles - M &amp; HCVs</td>\n",
       "      <td>Passenger Carriers</td>\n",
       "      <td>41175.0</td>\n",
       "      <td>49360.0</td>\n",
       "    </tr>\n",
       "    <tr>\n",
       "      <th>4</th>\n",
       "      <td>Commercial Vehicles - M &amp; HCVs</td>\n",
       "      <td>Goods Carriers</td>\n",
       "      <td>180381.0</td>\n",
       "      <td>219193.0</td>\n",
       "    </tr>\n",
       "  </tbody>\n",
       "</table>\n",
       "</div>"
      ],
      "text/plain": [
       "                         Category                         Segment    2013-14  \\\n",
       "0        Passenger Vehicles (PVs)                  Passenger Cars  2519281.0   \n",
       "1        Passenger Vehicles (PVs)          Multi-Utility Vehicles   568692.0   \n",
       "2        Passenger Vehicles (PVs)  Total Passenger Vehicles (PVs)  3087973.0   \n",
       "3  Commercial Vehicles - M & HCVs              Passenger Carriers    41175.0   \n",
       "4  Commercial Vehicles - M & HCVs                  Goods Carriers   180381.0   \n",
       "\n",
       "     2014-15  \n",
       "0  2590917.0  \n",
       "1   629255.0  \n",
       "2  3220172.0  \n",
       "3    49360.0  \n",
       "4   219193.0  "
      ]
     },
     "execution_count": 4,
     "metadata": {},
     "output_type": "execute_result"
    }
   ],
   "source": [
    "df1.head()"
   ]
  },
  {
   "cell_type": "code",
   "execution_count": 5,
   "id": "5d891eae",
   "metadata": {},
   "outputs": [],
   "source": [
    "# Drop any rows with missing values of dataset 1\n",
    "df1 = df1.dropna()"
   ]
  },
  {
   "cell_type": "code",
   "execution_count": 6,
   "id": "d0c59b0e",
   "metadata": {},
   "outputs": [
    {
     "name": "stdout",
     "output_type": "stream",
     "text": [
      "DF1 Shape:  (18, 4)\n"
     ]
    }
   ],
   "source": [
    "# checking the shape (# of rows and columns) of the datasets\n",
    "print('DF1 Shape: ', df1.shape)"
   ]
  },
  {
   "cell_type": "code",
   "execution_count": 7,
   "id": "46e46017",
   "metadata": {},
   "outputs": [
    {
     "data": {
      "application/vnd.jupyter.widget-view+json": {
       "model_id": "8306d6c55e1345e59a176685d5f1a018",
       "version_major": 2,
       "version_minor": 0
      },
      "text/plain": [
       "Summarize dataset:   0%|          | 0/5 [00:00<?, ?it/s]"
      ]
     },
     "metadata": {},
     "output_type": "display_data"
    },
    {
     "data": {
      "application/vnd.jupyter.widget-view+json": {
       "model_id": "c886b08d38904e3bad026c34d48088f2",
       "version_major": 2,
       "version_minor": 0
      },
      "text/plain": [
       "Generate report structure:   0%|          | 0/1 [00:00<?, ?it/s]"
      ]
     },
     "metadata": {},
     "output_type": "display_data"
    },
    {
     "data": {
      "application/vnd.jupyter.widget-view+json": {
       "model_id": "c62c6760f37242a0abcdc6bfcb3d3cfd",
       "version_major": 2,
       "version_minor": 0
      },
      "text/plain": [
       "Render HTML:   0%|          | 0/1 [00:00<?, ?it/s]"
      ]
     },
     "metadata": {},
     "output_type": "display_data"
    },
    {
     "data": {
      "application/vnd.jupyter.widget-view+json": {
       "model_id": "04be1eb555174d938c1d38f90905a2f5",
       "version_major": 2,
       "version_minor": 0
      },
      "text/plain": [
       "Export report to file:   0%|          | 0/1 [00:00<?, ?it/s]"
      ]
     },
     "metadata": {},
     "output_type": "display_data"
    }
   ],
   "source": [
    "# Generate a report using pandas profiling\n",
    "profile = pandas_profiling.ProfileReport(df1)\n",
    "\n",
    "# Save the report to an HTML file\n",
    "profile.to_file('104.html')"
   ]
  },
  {
   "cell_type": "code",
   "execution_count": 8,
   "id": "671fb75a",
   "metadata": {},
   "outputs": [],
   "source": [
    "df1.to_csv('104_modified.csv', index=False)"
   ]
  },
  {
   "cell_type": "code",
   "execution_count": 9,
   "id": "782a026f",
   "metadata": {},
   "outputs": [
    {
     "data": {
      "text/html": [
       "<div>\n",
       "<style scoped>\n",
       "    .dataframe tbody tr th:only-of-type {\n",
       "        vertical-align: middle;\n",
       "    }\n",
       "\n",
       "    .dataframe tbody tr th {\n",
       "        vertical-align: top;\n",
       "    }\n",
       "\n",
       "    .dataframe thead th {\n",
       "        text-align: right;\n",
       "    }\n",
       "</style>\n",
       "<table border=\"1\" class=\"dataframe\">\n",
       "  <thead>\n",
       "    <tr style=\"text-align: right;\">\n",
       "      <th></th>\n",
       "      <th>Category</th>\n",
       "      <th>Segment</th>\n",
       "      <th>2013-14</th>\n",
       "      <th>2014-15</th>\n",
       "    </tr>\n",
       "  </thead>\n",
       "  <tbody>\n",
       "    <tr>\n",
       "      <th>0</th>\n",
       "      <td>Passenger Vehicles (PVs)</td>\n",
       "      <td>Passenger Cars</td>\n",
       "      <td>2519281.0</td>\n",
       "      <td>2590917.0</td>\n",
       "    </tr>\n",
       "    <tr>\n",
       "      <th>1</th>\n",
       "      <td>Passenger Vehicles (PVs)</td>\n",
       "      <td>Multi-Utility Vehicles</td>\n",
       "      <td>568692.0</td>\n",
       "      <td>629255.0</td>\n",
       "    </tr>\n",
       "    <tr>\n",
       "      <th>2</th>\n",
       "      <td>Passenger Vehicles (PVs)</td>\n",
       "      <td>Total Passenger Vehicles (PVs)</td>\n",
       "      <td>3087973.0</td>\n",
       "      <td>3220172.0</td>\n",
       "    </tr>\n",
       "    <tr>\n",
       "      <th>3</th>\n",
       "      <td>Commercial Vehicles - M &amp; HCVs</td>\n",
       "      <td>Passenger Carriers</td>\n",
       "      <td>41175.0</td>\n",
       "      <td>49360.0</td>\n",
       "    </tr>\n",
       "    <tr>\n",
       "      <th>4</th>\n",
       "      <td>Commercial Vehicles - M &amp; HCVs</td>\n",
       "      <td>Goods Carriers</td>\n",
       "      <td>180381.0</td>\n",
       "      <td>219193.0</td>\n",
       "    </tr>\n",
       "  </tbody>\n",
       "</table>\n",
       "</div>"
      ],
      "text/plain": [
       "                         Category                         Segment    2013-14  \\\n",
       "0        Passenger Vehicles (PVs)                  Passenger Cars  2519281.0   \n",
       "1        Passenger Vehicles (PVs)          Multi-Utility Vehicles   568692.0   \n",
       "2        Passenger Vehicles (PVs)  Total Passenger Vehicles (PVs)  3087973.0   \n",
       "3  Commercial Vehicles - M & HCVs              Passenger Carriers    41175.0   \n",
       "4  Commercial Vehicles - M & HCVs                  Goods Carriers   180381.0   \n",
       "\n",
       "     2014-15  \n",
       "0  2590917.0  \n",
       "1   629255.0  \n",
       "2  3220172.0  \n",
       "3    49360.0  \n",
       "4   219193.0  "
      ]
     },
     "execution_count": 9,
     "metadata": {},
     "output_type": "execute_result"
    }
   ],
   "source": [
    "df1.head()"
   ]
  },
  {
   "cell_type": "markdown",
   "id": "b888cd1a",
   "metadata": {},
   "source": [
    "# Importing Dataset 2"
   ]
  },
  {
   "cell_type": "code",
   "execution_count": 10,
   "id": "ab94590f",
   "metadata": {},
   "outputs": [],
   "source": [
    "df2 = pd.read_csv('112.csv')"
   ]
  },
  {
   "cell_type": "code",
   "execution_count": 11,
   "id": "c37c8116",
   "metadata": {},
   "outputs": [],
   "source": [
    "# Droping the column\n",
    "df2 = df2.drop(columns=['Buses', 'Sl. No', 'Three Wheelers (Category L5 slow speed as per CMVR)','Two Wheelers (Category L2 (CMVR))' , 'Two Wheelers (Max power not exceeding 250 Watts)'])\n",
    "\n",
    "# Rename the columns \n",
    "df2 = df2.rename(columns={'Two Wheelers (Category L1 & L2 as per Central Motor Vehicles Rules': 'Two Wheelers'})\n",
    "df2 = df2.rename(columns={'Three Wheelers (Category L5 as per CMVR)': 'Three Wheelers'})\n",
    "df2 = df2.rename(columns={'Passenger Cars (Category M1 as per CMVR)': 'Passenger Cars'})\n",
    "\n",
    "# Drop any rows with missing values of dataset 2\n",
    "df2 = df2.dropna()\n",
    "\n",
    "# Drop any rows with missing values of dataset 2\n",
    "df2 = df2.dropna()"
   ]
  },
  {
   "cell_type": "code",
   "execution_count": 12,
   "id": "9e9e0f70",
   "metadata": {},
   "outputs": [
    {
     "data": {
      "text/html": [
       "<div>\n",
       "<style scoped>\n",
       "    .dataframe tbody tr th:only-of-type {\n",
       "        vertical-align: middle;\n",
       "    }\n",
       "\n",
       "    .dataframe tbody tr th {\n",
       "        vertical-align: top;\n",
       "    }\n",
       "\n",
       "    .dataframe thead th {\n",
       "        text-align: right;\n",
       "    }\n",
       "</style>\n",
       "<table border=\"1\" class=\"dataframe\">\n",
       "  <thead>\n",
       "    <tr style=\"text-align: right;\">\n",
       "      <th></th>\n",
       "      <th>State</th>\n",
       "      <th>Two Wheelers</th>\n",
       "      <th>Three Wheelers</th>\n",
       "      <th>Passenger Cars</th>\n",
       "      <th>Total in state</th>\n",
       "    </tr>\n",
       "  </thead>\n",
       "  <tbody>\n",
       "    <tr>\n",
       "      <th>0</th>\n",
       "      <td>Meghalaya</td>\n",
       "      <td>0</td>\n",
       "      <td>0</td>\n",
       "      <td>6</td>\n",
       "      <td>6</td>\n",
       "    </tr>\n",
       "    <tr>\n",
       "      <th>1</th>\n",
       "      <td>Nagaland</td>\n",
       "      <td>0</td>\n",
       "      <td>0</td>\n",
       "      <td>1</td>\n",
       "      <td>24</td>\n",
       "    </tr>\n",
       "    <tr>\n",
       "      <th>2</th>\n",
       "      <td>Manipur</td>\n",
       "      <td>16</td>\n",
       "      <td>5</td>\n",
       "      <td>12</td>\n",
       "      <td>52</td>\n",
       "    </tr>\n",
       "    <tr>\n",
       "      <th>3</th>\n",
       "      <td>Tripura</td>\n",
       "      <td>28</td>\n",
       "      <td>0</td>\n",
       "      <td>8</td>\n",
       "      <td>81</td>\n",
       "    </tr>\n",
       "    <tr>\n",
       "      <th>4</th>\n",
       "      <td>Andaman &amp; Nicobar islands</td>\n",
       "      <td>0</td>\n",
       "      <td>0</td>\n",
       "      <td>82</td>\n",
       "      <td>82</td>\n",
       "    </tr>\n",
       "  </tbody>\n",
       "</table>\n",
       "</div>"
      ],
      "text/plain": [
       "                       State  Two Wheelers  Three Wheelers  Passenger Cars  \\\n",
       "0                  Meghalaya             0               0               6   \n",
       "1                   Nagaland             0               0               1   \n",
       "2                    Manipur            16               5              12   \n",
       "3                    Tripura            28               0               8   \n",
       "4  Andaman & Nicobar islands             0               0              82   \n",
       "\n",
       "   Total in state  \n",
       "0               6  \n",
       "1              24  \n",
       "2              52  \n",
       "3              81  \n",
       "4              82  "
      ]
     },
     "execution_count": 12,
     "metadata": {},
     "output_type": "execute_result"
    }
   ],
   "source": [
    "df2.head()"
   ]
  },
  {
   "cell_type": "code",
   "execution_count": 13,
   "id": "355472e7",
   "metadata": {},
   "outputs": [
    {
     "data": {
      "application/vnd.jupyter.widget-view+json": {
       "model_id": "2b8194ddd86b4768855fb0c43e1eba26",
       "version_major": 2,
       "version_minor": 0
      },
      "text/plain": [
       "Summarize dataset:   0%|          | 0/5 [00:00<?, ?it/s]"
      ]
     },
     "metadata": {},
     "output_type": "display_data"
    },
    {
     "data": {
      "application/vnd.jupyter.widget-view+json": {
       "model_id": "3499138c4ba04257adfc02049829a69a",
       "version_major": 2,
       "version_minor": 0
      },
      "text/plain": [
       "Generate report structure:   0%|          | 0/1 [00:00<?, ?it/s]"
      ]
     },
     "metadata": {},
     "output_type": "display_data"
    },
    {
     "data": {
      "application/vnd.jupyter.widget-view+json": {
       "model_id": "adb4bbd196aa4c91bb6cdff1738fbe7a",
       "version_major": 2,
       "version_minor": 0
      },
      "text/plain": [
       "Render HTML:   0%|          | 0/1 [00:00<?, ?it/s]"
      ]
     },
     "metadata": {},
     "output_type": "display_data"
    },
    {
     "data": {
      "application/vnd.jupyter.widget-view+json": {
       "model_id": "01d60c35b3164a60a208750be66b02d0",
       "version_major": 2,
       "version_minor": 0
      },
      "text/plain": [
       "Export report to file:   0%|          | 0/1 [00:00<?, ?it/s]"
      ]
     },
     "metadata": {},
     "output_type": "display_data"
    }
   ],
   "source": [
    "# Generate a report using pandas profiling\n",
    "profile = pandas_profiling.ProfileReport(df2)\n",
    "\n",
    "# Save the report to an HTML file\n",
    "profile.to_file('112.html')"
   ]
  },
  {
   "cell_type": "code",
   "execution_count": 14,
   "id": "f82fe5bf",
   "metadata": {},
   "outputs": [
    {
     "name": "stdout",
     "output_type": "stream",
     "text": [
      "DF2 Shape:  (30, 5)\n"
     ]
    }
   ],
   "source": [
    "# checking the shape (# of rows and columns) of the datasets\n",
    "print('DF2 Shape: ', df2.shape)"
   ]
  },
  {
   "cell_type": "markdown",
   "id": "b87767d1",
   "metadata": {},
   "source": [
    "# Importing Dataset 3"
   ]
  },
  {
   "cell_type": "code",
   "execution_count": 15,
   "id": "355993ad",
   "metadata": {},
   "outputs": [],
   "source": [
    "df3 = pd.read_csv('102_103_105_107.csv')\n",
    "df3 = df3.rename(columns={'State Name': 'State'})"
   ]
  },
  {
   "cell_type": "code",
   "execution_count": 16,
   "id": "13485dae",
   "metadata": {},
   "outputs": [
    {
     "data": {
      "text/html": [
       "<div>\n",
       "<style scoped>\n",
       "    .dataframe tbody tr th:only-of-type {\n",
       "        vertical-align: middle;\n",
       "    }\n",
       "\n",
       "    .dataframe tbody tr th {\n",
       "        vertical-align: top;\n",
       "    }\n",
       "\n",
       "    .dataframe thead th {\n",
       "        text-align: right;\n",
       "    }\n",
       "</style>\n",
       "<table border=\"1\" class=\"dataframe\">\n",
       "  <thead>\n",
       "    <tr style=\"text-align: right;\">\n",
       "      <th></th>\n",
       "      <th>State</th>\n",
       "      <th>No. of EV Chargers Sanctioned</th>\n",
       "      <th>No of RO's where EV Charging Facility available</th>\n",
       "      <th>Total Electric Vehicle</th>\n",
       "      <th>Total Non-Electric Vehicle</th>\n",
       "      <th>Total EV supported by state for adoption and manufacturing</th>\n",
       "    </tr>\n",
       "  </thead>\n",
       "  <tbody>\n",
       "    <tr>\n",
       "      <th>0</th>\n",
       "      <td>Andhra Pradesh</td>\n",
       "      <td>266.0</td>\n",
       "      <td>65.0</td>\n",
       "      <td>NaN</td>\n",
       "      <td>NaN</td>\n",
       "      <td>6393.0</td>\n",
       "    </tr>\n",
       "    <tr>\n",
       "      <th>1</th>\n",
       "      <td>Arunachal Pradesh</td>\n",
       "      <td>NaN</td>\n",
       "      <td>4.0</td>\n",
       "      <td>20</td>\n",
       "      <td>2,52,965</td>\n",
       "      <td>1.0</td>\n",
       "    </tr>\n",
       "    <tr>\n",
       "      <th>2</th>\n",
       "      <td>Assam</td>\n",
       "      <td>20.0</td>\n",
       "      <td>19.0</td>\n",
       "      <td>64766</td>\n",
       "      <td>46,77,053</td>\n",
       "      <td>827.0</td>\n",
       "    </tr>\n",
       "    <tr>\n",
       "      <th>3</th>\n",
       "      <td>Bihar</td>\n",
       "      <td>37.0</td>\n",
       "      <td>26.0</td>\n",
       "      <td>83335</td>\n",
       "      <td>1,04,07,078</td>\n",
       "      <td>5255.0</td>\n",
       "    </tr>\n",
       "    <tr>\n",
       "      <th>4</th>\n",
       "      <td>Chandigarh</td>\n",
       "      <td>70.0</td>\n",
       "      <td>4.0</td>\n",
       "      <td>2812</td>\n",
       "      <td>7,46,881</td>\n",
       "      <td>154.0</td>\n",
       "    </tr>\n",
       "  </tbody>\n",
       "</table>\n",
       "</div>"
      ],
      "text/plain": [
       "               State  No. of EV Chargers Sanctioned  \\\n",
       "0     Andhra Pradesh                          266.0   \n",
       "1  Arunachal Pradesh                            NaN   \n",
       "2              Assam                           20.0   \n",
       "3              Bihar                           37.0   \n",
       "4         Chandigarh                           70.0   \n",
       "\n",
       "   No of RO's where EV Charging Facility available Total Electric Vehicle  \\\n",
       "0                                             65.0                    NaN   \n",
       "1                                              4.0                     20   \n",
       "2                                             19.0                  64766   \n",
       "3                                             26.0                  83335   \n",
       "4                                              4.0                   2812   \n",
       "\n",
       "  Total Non-Electric Vehicle  \\\n",
       "0                        NaN   \n",
       "1                   2,52,965   \n",
       "2                  46,77,053   \n",
       "3                1,04,07,078   \n",
       "4                   7,46,881   \n",
       "\n",
       "   Total EV supported by state for adoption and manufacturing  \n",
       "0                                             6393.0           \n",
       "1                                                1.0           \n",
       "2                                              827.0           \n",
       "3                                             5255.0           \n",
       "4                                              154.0           "
      ]
     },
     "execution_count": 16,
     "metadata": {},
     "output_type": "execute_result"
    }
   ],
   "source": [
    "df3.head()"
   ]
  },
  {
   "cell_type": "code",
   "execution_count": 17,
   "id": "aa2c761d",
   "metadata": {},
   "outputs": [],
   "source": [
    "merged_df = pd.merge(df2 , df3 , on='State')"
   ]
  },
  {
   "cell_type": "code",
   "execution_count": 18,
   "id": "3c914dc0",
   "metadata": {},
   "outputs": [],
   "source": [
    "merged_df.to_csv('102_103_105_107_112.csv', index=False)"
   ]
  },
  {
   "cell_type": "code",
   "execution_count": 19,
   "id": "bf566b24",
   "metadata": {},
   "outputs": [],
   "source": [
    "df = pd.read_csv('102_103_105_107_112.csv')"
   ]
  },
  {
   "cell_type": "code",
   "execution_count": 20,
   "id": "87828d95",
   "metadata": {},
   "outputs": [
    {
     "data": {
      "text/html": [
       "<div>\n",
       "<style scoped>\n",
       "    .dataframe tbody tr th:only-of-type {\n",
       "        vertical-align: middle;\n",
       "    }\n",
       "\n",
       "    .dataframe tbody tr th {\n",
       "        vertical-align: top;\n",
       "    }\n",
       "\n",
       "    .dataframe thead th {\n",
       "        text-align: right;\n",
       "    }\n",
       "</style>\n",
       "<table border=\"1\" class=\"dataframe\">\n",
       "  <thead>\n",
       "    <tr style=\"text-align: right;\">\n",
       "      <th></th>\n",
       "      <th>State</th>\n",
       "      <th>Two Wheelers</th>\n",
       "      <th>Three Wheelers</th>\n",
       "      <th>Passenger Cars</th>\n",
       "      <th>Total in state</th>\n",
       "      <th>No. of EV Chargers Sanctioned</th>\n",
       "      <th>No of RO's where EV Charging Facility available</th>\n",
       "      <th>Total Electric Vehicle</th>\n",
       "      <th>Total Non-Electric Vehicle</th>\n",
       "      <th>Total EV supported by state for adoption and manufacturing</th>\n",
       "    </tr>\n",
       "  </thead>\n",
       "  <tbody>\n",
       "    <tr>\n",
       "      <th>0</th>\n",
       "      <td>Meghalaya</td>\n",
       "      <td>0</td>\n",
       "      <td>0</td>\n",
       "      <td>6</td>\n",
       "      <td>6</td>\n",
       "      <td>40.0</td>\n",
       "      <td>3.0</td>\n",
       "      <td>49</td>\n",
       "      <td>4,59,001</td>\n",
       "      <td>10.0</td>\n",
       "    </tr>\n",
       "    <tr>\n",
       "      <th>1</th>\n",
       "      <td>Nagaland</td>\n",
       "      <td>0</td>\n",
       "      <td>0</td>\n",
       "      <td>1</td>\n",
       "      <td>24</td>\n",
       "      <td>NaN</td>\n",
       "      <td>2.0</td>\n",
       "      <td>58</td>\n",
       "      <td>3,39,129</td>\n",
       "      <td>NaN</td>\n",
       "    </tr>\n",
       "    <tr>\n",
       "      <th>2</th>\n",
       "      <td>Manipur</td>\n",
       "      <td>16</td>\n",
       "      <td>5</td>\n",
       "      <td>12</td>\n",
       "      <td>52</td>\n",
       "      <td>NaN</td>\n",
       "      <td>1.0</td>\n",
       "      <td>586</td>\n",
       "      <td>4,99,324</td>\n",
       "      <td>140.0</td>\n",
       "    </tr>\n",
       "    <tr>\n",
       "      <th>3</th>\n",
       "      <td>Tripura</td>\n",
       "      <td>28</td>\n",
       "      <td>0</td>\n",
       "      <td>8</td>\n",
       "      <td>81</td>\n",
       "      <td>NaN</td>\n",
       "      <td>3.0</td>\n",
       "      <td>9262</td>\n",
       "      <td>6,50,026</td>\n",
       "      <td>750.0</td>\n",
       "    </tr>\n",
       "    <tr>\n",
       "      <th>4</th>\n",
       "      <td>Himachal Pradesh</td>\n",
       "      <td>0</td>\n",
       "      <td>0</td>\n",
       "      <td>98</td>\n",
       "      <td>98</td>\n",
       "      <td>10.0</td>\n",
       "      <td>13.0</td>\n",
       "      <td>1175</td>\n",
       "      <td>19,64,754</td>\n",
       "      <td>446.0</td>\n",
       "    </tr>\n",
       "  </tbody>\n",
       "</table>\n",
       "</div>"
      ],
      "text/plain": [
       "              State  Two Wheelers  Three Wheelers  Passenger Cars  \\\n",
       "0         Meghalaya             0               0               6   \n",
       "1          Nagaland             0               0               1   \n",
       "2           Manipur            16               5              12   \n",
       "3           Tripura            28               0               8   \n",
       "4  Himachal Pradesh             0               0              98   \n",
       "\n",
       "   Total in state  No. of EV Chargers Sanctioned  \\\n",
       "0               6                           40.0   \n",
       "1              24                            NaN   \n",
       "2              52                            NaN   \n",
       "3              81                            NaN   \n",
       "4              98                           10.0   \n",
       "\n",
       "   No of RO's where EV Charging Facility available Total Electric Vehicle  \\\n",
       "0                                              3.0                     49   \n",
       "1                                              2.0                     58   \n",
       "2                                              1.0                    586   \n",
       "3                                              3.0                   9262   \n",
       "4                                             13.0                   1175   \n",
       "\n",
       "  Total Non-Electric Vehicle  \\\n",
       "0                   4,59,001   \n",
       "1                   3,39,129   \n",
       "2                   4,99,324   \n",
       "3                   6,50,026   \n",
       "4                  19,64,754   \n",
       "\n",
       "   Total EV supported by state for adoption and manufacturing  \n",
       "0                                               10.0           \n",
       "1                                                NaN           \n",
       "2                                              140.0           \n",
       "3                                              750.0           \n",
       "4                                              446.0           "
      ]
     },
     "execution_count": 20,
     "metadata": {},
     "output_type": "execute_result"
    }
   ],
   "source": [
    "df.head()"
   ]
  }
 ],
 "metadata": {
  "kernelspec": {
   "display_name": "Python 3 (ipykernel)",
   "language": "python",
   "name": "python3"
  },
  "language_info": {
   "codemirror_mode": {
    "name": "ipython",
    "version": 3
   },
   "file_extension": ".py",
   "mimetype": "text/x-python",
   "name": "python",
   "nbconvert_exporter": "python",
   "pygments_lexer": "ipython3",
   "version": "3.9.13"
  }
 },
 "nbformat": 4,
 "nbformat_minor": 5
}
