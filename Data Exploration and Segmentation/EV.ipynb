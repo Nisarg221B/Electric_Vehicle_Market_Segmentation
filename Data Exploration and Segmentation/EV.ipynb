{
 "cells": [
  {
   "cell_type": "code",
   "execution_count": 175,
   "id": "5d473023",
   "metadata": {},
   "outputs": [],
   "source": [
    "import pandas as pd\n",
    "import numpy as np\n",
    "import matplotlib.pyplot as plt\n",
    "%matplotlib inline\n",
    "import seaborn as sns\n",
    "import warnings"
   ]
  },
  {
   "cell_type": "code",
   "execution_count": 176,
   "id": "85f82386",
   "metadata": {},
   "outputs": [],
   "source": [
    "warnings.simplefilter(action='ignore')"
   ]
  },
  {
   "cell_type": "code",
   "execution_count": 177,
   "id": "87518d72",
   "metadata": {},
   "outputs": [],
   "source": [
    "df = pd.read_csv('https://raw.githubusercontent.com/Nisarg221B/Electric_Vehicle_Market_Segmentation/master/prepared_dataset/101_110.csv', sep=',', index_col=0)"
   ]
  },
  {
   "cell_type": "code",
   "execution_count": 178,
   "id": "0b23f475",
   "metadata": {},
   "outputs": [
    {
     "data": {
      "text/html": [
       "<div>\n",
       "<style scoped>\n",
       "    .dataframe tbody tr th:only-of-type {\n",
       "        vertical-align: middle;\n",
       "    }\n",
       "\n",
       "    .dataframe tbody tr th {\n",
       "        vertical-align: top;\n",
       "    }\n",
       "\n",
       "    .dataframe thead th {\n",
       "        text-align: right;\n",
       "    }\n",
       "</style>\n",
       "<table border=\"1\" class=\"dataframe\">\n",
       "  <thead>\n",
       "    <tr style=\"text-align: right;\">\n",
       "      <th></th>\n",
       "      <th>Rating</th>\n",
       "      <th>Model Name</th>\n",
       "      <th>Type</th>\n",
       "      <th>Category of e-Vehicle</th>\n",
       "    </tr>\n",
       "  </thead>\n",
       "  <tbody>\n",
       "    <tr>\n",
       "      <th>0</th>\n",
       "      <td>1.0</td>\n",
       "      <td>TVS iQube</td>\n",
       "      <td>2-wheeler</td>\n",
       "      <td>e-2W</td>\n",
       "    </tr>\n",
       "    <tr>\n",
       "      <th>1</th>\n",
       "      <td>3.0</td>\n",
       "      <td>TVS iQube</td>\n",
       "      <td>2-wheeler</td>\n",
       "      <td>e-2W</td>\n",
       "    </tr>\n",
       "    <tr>\n",
       "      <th>2</th>\n",
       "      <td>2.0</td>\n",
       "      <td>TVS iQube</td>\n",
       "      <td>2-wheeler</td>\n",
       "      <td>e-2W</td>\n",
       "    </tr>\n",
       "    <tr>\n",
       "      <th>3</th>\n",
       "      <td>5.0</td>\n",
       "      <td>TVS iQube</td>\n",
       "      <td>2-wheeler</td>\n",
       "      <td>e-2W</td>\n",
       "    </tr>\n",
       "    <tr>\n",
       "      <th>4</th>\n",
       "      <td>4.0</td>\n",
       "      <td>TVS iQube</td>\n",
       "      <td>2-wheeler</td>\n",
       "      <td>e-2W</td>\n",
       "    </tr>\n",
       "  </tbody>\n",
       "</table>\n",
       "</div>"
      ],
      "text/plain": [
       "   Rating Model Name       Type Category of e-Vehicle\n",
       "0     1.0  TVS iQube  2-wheeler                  e-2W\n",
       "1     3.0  TVS iQube  2-wheeler                  e-2W\n",
       "2     2.0  TVS iQube  2-wheeler                  e-2W\n",
       "3     5.0  TVS iQube  2-wheeler                  e-2W\n",
       "4     4.0  TVS iQube  2-wheeler                  e-2W"
      ]
     },
     "execution_count": 178,
     "metadata": {},
     "output_type": "execute_result"
    }
   ],
   "source": [
    "df.head()"
   ]
  },
  {
   "cell_type": "code",
   "execution_count": 179,
   "id": "c1e944f5",
   "metadata": {},
   "outputs": [
    {
     "data": {
      "text/plain": [
       "(179, 4)"
      ]
     },
     "execution_count": 179,
     "metadata": {},
     "output_type": "execute_result"
    }
   ],
   "source": [
    "df.shape"
   ]
  },
  {
   "cell_type": "code",
   "execution_count": 180,
   "id": "4e3a5662",
   "metadata": {},
   "outputs": [
    {
     "data": {
      "text/plain": [
       "array(['2-wheeler', '4-wheeler'], dtype=object)"
      ]
     },
     "execution_count": 180,
     "metadata": {},
     "output_type": "execute_result"
    }
   ],
   "source": [
    "df['Type'].unique()"
   ]
  },
  {
   "cell_type": "code",
   "execution_count": 181,
   "id": "5c995bce",
   "metadata": {},
   "outputs": [
    {
     "data": {
      "text/plain": [
       "2-wheeler    144\n",
       "4-wheeler     35\n",
       "Name: Type, dtype: int64"
      ]
     },
     "execution_count": 181,
     "metadata": {},
     "output_type": "execute_result"
    }
   ],
   "source": [
    "df['Type'].value_counts()"
   ]
  },
  {
   "cell_type": "code",
   "execution_count": 182,
   "id": "7c51f948",
   "metadata": {},
   "outputs": [
    {
     "data": {
      "text/plain": [
       "array([1. , 3. , 2. , 5. , 4. , 4.5, 3.5, 2.5, 1.5, 0. ])"
      ]
     },
     "execution_count": 182,
     "metadata": {},
     "output_type": "execute_result"
    }
   ],
   "source": [
    "df['Rating'].unique()"
   ]
  },
  {
   "cell_type": "code",
   "execution_count": 183,
   "id": "007b6a88",
   "metadata": {},
   "outputs": [
    {
     "data": {
      "text/plain": [
       "array(['TVS iQube', 'Revolt RV 400', 'Bajaj Chetak', 'OLA S1 Pro',\n",
       "       'Ather 450X', 'Hero Electric Optima', 'Tork Kratos', 'OLA S1',\n",
       "       'Bounce Infinity E1', 'Hero Electric Optima CX',\n",
       "       'Hero Electric Flash', 'Ampere Magnus EX', 'Revolt RV 300',\n",
       "       'Hero Electric Photon', 'Okinawa Praise', 'Benling Aura',\n",
       "       'Ampere Magnus Pro', 'PURE EV EPluto 7G', 'Ampere REO',\n",
       "       'Odysse Evoqis', 'Hero Electric NYX HX', 'Okinawa i-Praise',\n",
       "       'Joy e-bike Monster', 'PURE EV ETrance Neo', 'Evolet Polo',\n",
       "       'Okinawa Ridge Plus', 'Ampere Zeal', 'Hero Electric Atria',\n",
       "       'Okinawa Lite', 'Hero Electric NYX', 'Okinawa R30', 'Yo Drift',\n",
       "       'BGauss B8', 'Joy e-bike Wolf', 'Gemopai Astrid Lite',\n",
       "       'Techo Electra Emerge', 'Techo Electra Raptor', 'e-bike Gen Nxt',\n",
       "       'Gemopai Ryder', 'hyundai kona', 'Kia EV6', 'Tata Nexon EV',\n",
       "       'MG ZS EV', 'Tata Tigor EV', 'BYD E6', 'tata nexon ev',\n",
       "       'tata tigor ev'], dtype=object)"
      ]
     },
     "execution_count": 183,
     "metadata": {},
     "output_type": "execute_result"
    }
   ],
   "source": [
    "df['Model Name'].unique()"
   ]
  },
  {
   "cell_type": "code",
   "execution_count": 184,
   "id": "51321240",
   "metadata": {},
   "outputs": [
    {
     "data": {
      "text/plain": [
       "Tata Nexon EV              8\n",
       "hyundai kona               7\n",
       "TVS iQube                  5\n",
       "Revolt RV 400              5\n",
       "Ampere Zeal                5\n",
       "Okinawa Lite               5\n",
       "Ampere REO                 5\n",
       "PURE EV EPluto 7G          5\n",
       "Okinawa Praise             5\n",
       "Hero Electric Photon       5\n",
       "Okinawa Ridge Plus         5\n",
       "Hero Electric Flash        5\n",
       "Hero Electric Optima CX    5\n",
       "Hero Electric Optima       5\n",
       "OLA S1 Pro                 5\n",
       "tata nexon ev              5\n",
       "Yo Drift                   4\n",
       "Techo Electra Raptor       4\n",
       "Okinawa R30                4\n",
       "Hero Electric NYX          4\n",
       "MG ZS EV                   4\n",
       "BGauss B8                  4\n",
       "PURE EV ETrance Neo        4\n",
       "tata tigor ev              4\n",
       "Okinawa i-Praise           4\n",
       "Ather 450X                 4\n",
       "Ampere Magnus Pro          4\n",
       "Benling Aura               4\n",
       "Tork Kratos                4\n",
       "Ampere Magnus EX           4\n",
       "OLA S1                     4\n",
       "e-bike Gen Nxt             3\n",
       "Bajaj Chetak               3\n",
       "Tata Tigor EV              3\n",
       "Kia EV6                    3\n",
       "Gemopai Ryder              3\n",
       "Techo Electra Emerge       3\n",
       "Bounce Infinity E1         3\n",
       "Joy e-bike Wolf            2\n",
       "Revolt RV 300              2\n",
       "Hero Electric Atria        2\n",
       "Joy e-bike Monster         2\n",
       "Evolet Polo                1\n",
       "Gemopai Astrid Lite        1\n",
       "Odysse Evoqis              1\n",
       "BYD E6                     1\n",
       "Hero Electric NYX HX       1\n",
       "Name: Model Name, dtype: int64"
      ]
     },
     "execution_count": 184,
     "metadata": {},
     "output_type": "execute_result"
    }
   ],
   "source": [
    "df['Model Name'].value_counts()"
   ]
  },
  {
   "cell_type": "code",
   "execution_count": 185,
   "id": "9de22571",
   "metadata": {},
   "outputs": [
    {
     "data": {
      "text/plain": [
       "array(['e-2W', nan, 'e-4W'], dtype=object)"
      ]
     },
     "execution_count": 185,
     "metadata": {},
     "output_type": "execute_result"
    }
   ],
   "source": [
    "df['Category of e-Vehicle'].unique()"
   ]
  },
  {
   "cell_type": "code",
   "execution_count": 186,
   "id": "434154d4",
   "metadata": {},
   "outputs": [
    {
     "data": {
      "text/plain": [
       "e-2W    100\n",
       "e-4W     20\n",
       "Name: Category of e-Vehicle, dtype: int64"
      ]
     },
     "execution_count": 186,
     "metadata": {},
     "output_type": "execute_result"
    }
   ],
   "source": [
    "df['Category of e-Vehicle'].value_counts()"
   ]
  },
  {
   "cell_type": "code",
   "execution_count": 187,
   "id": "5b6f1cb9",
   "metadata": {
    "scrolled": true
   },
   "outputs": [
    {
     "data": {
      "text/plain": [
       "Rating                    0\n",
       "Model Name                0\n",
       "Type                      0\n",
       "Category of e-Vehicle    59\n",
       "dtype: int64"
      ]
     },
     "execution_count": 187,
     "metadata": {},
     "output_type": "execute_result"
    }
   ],
   "source": [
    "df.isnull().sum()"
   ]
  },
  {
   "cell_type": "markdown",
   "id": "9d738cf0",
   "metadata": {},
   "source": [
    "# Analysis"
   ]
  },
  {
   "cell_type": "code",
   "execution_count": 188,
   "id": "d5bc53b4",
   "metadata": {},
   "outputs": [
    {
     "data": {
      "text/html": [
       "<div>\n",
       "<style scoped>\n",
       "    .dataframe tbody tr th:only-of-type {\n",
       "        vertical-align: middle;\n",
       "    }\n",
       "\n",
       "    .dataframe tbody tr th {\n",
       "        vertical-align: top;\n",
       "    }\n",
       "\n",
       "    .dataframe thead th {\n",
       "        text-align: right;\n",
       "    }\n",
       "</style>\n",
       "<table border=\"1\" class=\"dataframe\">\n",
       "  <thead>\n",
       "    <tr style=\"text-align: right;\">\n",
       "      <th></th>\n",
       "      <th>Rating</th>\n",
       "      <th>Model Name</th>\n",
       "      <th>Type</th>\n",
       "      <th>Category of e-Vehicle</th>\n",
       "    </tr>\n",
       "  </thead>\n",
       "  <tbody>\n",
       "    <tr>\n",
       "      <th>0</th>\n",
       "      <td>1.0</td>\n",
       "      <td>TVS iQube</td>\n",
       "      <td>2-wheeler</td>\n",
       "      <td>e-2W</td>\n",
       "    </tr>\n",
       "    <tr>\n",
       "      <th>1</th>\n",
       "      <td>3.0</td>\n",
       "      <td>TVS iQube</td>\n",
       "      <td>2-wheeler</td>\n",
       "      <td>e-2W</td>\n",
       "    </tr>\n",
       "    <tr>\n",
       "      <th>2</th>\n",
       "      <td>2.0</td>\n",
       "      <td>TVS iQube</td>\n",
       "      <td>2-wheeler</td>\n",
       "      <td>e-2W</td>\n",
       "    </tr>\n",
       "    <tr>\n",
       "      <th>3</th>\n",
       "      <td>5.0</td>\n",
       "      <td>TVS iQube</td>\n",
       "      <td>2-wheeler</td>\n",
       "      <td>e-2W</td>\n",
       "    </tr>\n",
       "    <tr>\n",
       "      <th>4</th>\n",
       "      <td>4.0</td>\n",
       "      <td>TVS iQube</td>\n",
       "      <td>2-wheeler</td>\n",
       "      <td>e-2W</td>\n",
       "    </tr>\n",
       "  </tbody>\n",
       "</table>\n",
       "</div>"
      ],
      "text/plain": [
       "   Rating Model Name       Type Category of e-Vehicle\n",
       "0     1.0  TVS iQube  2-wheeler                  e-2W\n",
       "1     3.0  TVS iQube  2-wheeler                  e-2W\n",
       "2     2.0  TVS iQube  2-wheeler                  e-2W\n",
       "3     5.0  TVS iQube  2-wheeler                  e-2W\n",
       "4     4.0  TVS iQube  2-wheeler                  e-2W"
      ]
     },
     "execution_count": 188,
     "metadata": {},
     "output_type": "execute_result"
    }
   ],
   "source": [
    "df.head()"
   ]
  },
  {
   "cell_type": "code",
   "execution_count": 189,
   "id": "096f7283",
   "metadata": {},
   "outputs": [
    {
     "data": {
      "image/png": "[encoded data removed]",
      "text/plain": [
       "<Figure size 432x288 with 1 Axes>"
      ]
     },
     "metadata": {
      "needs_background": "light"
     },
     "output_type": "display_data"
    }
   ],
   "source": [
    "sns.countplot(data=df, x='Rating', order=[0.0, 1.0, 1.5, 2.0 , 2.5, 3.0, 3.5, 4.0, 4.5, 5.0]);"
   ]
  },
  {
   "cell_type": "code",
   "execution_count": 190,
   "id": "0ea26407",
   "metadata": {},
   "outputs": [
    {
     "data": {
      "image/png": "[encoded data removed]",
      "text/plain": [
       "<Figure size 432x288 with 1 Axes>"
      ]
     },
     "metadata": {
      "needs_background": "light"
     },
     "output_type": "display_data"
    }
   ],
   "source": [
    "sns.countplot(data=df, x='Type');"
   ]
  },
  {
   "cell_type": "code",
   "execution_count": 191,
   "id": "135c3f72",
   "metadata": {},
   "outputs": [
    {
     "data": {
      "image/png": "[encoded data removed]",
      "text/plain": [
       "<Figure size 432x288 with 1 Axes>"
      ]
     },
     "metadata": {
      "needs_background": "light"
     },
     "output_type": "display_data"
    }
   ],
   "source": [
    "sns.countplot(data=df, x='Category of e-Vehicle');"
   ]
  },
  {
   "cell_type": "markdown",
   "id": "25317b51",
   "metadata": {},
   "source": [
    "# Preprocessing"
   ]
  },
  {
   "cell_type": "code",
   "execution_count": 192,
   "id": "10c24e98",
   "metadata": {},
   "outputs": [],
   "source": [
    "df['Category of e-Vehicle'] = np.where((df['Category of e-Vehicle'].isnull()) & (df['Type'] == '2-wheeler'),'e-2W', df['Category of e-Vehicle'])\n",
    "df['Category of e-Vehicle'] = np.where((df['Category of e-Vehicle'].isnull()) & (df['Type'] == '4-wheeler'),'e-4W', df['Category of e-Vehicle'])"
   ]
  },
  {
   "cell_type": "code",
   "execution_count": 193,
   "id": "4f4a556e",
   "metadata": {},
   "outputs": [
    {
     "data": {
      "text/plain": [
       "0"
      ]
     },
     "execution_count": 193,
     "metadata": {},
     "output_type": "execute_result"
    }
   ],
   "source": [
    "df['Category of e-Vehicle'].isnull().sum()"
   ]
  },
  {
   "cell_type": "code",
   "execution_count": 194,
   "id": "e1f644cd",
   "metadata": {},
   "outputs": [
    {
     "data": {
      "text/plain": [
       "e-2W    144\n",
       "e-4W     35\n",
       "Name: Category of e-Vehicle, dtype: int64"
      ]
     },
     "execution_count": 194,
     "metadata": {},
     "output_type": "execute_result"
    }
   ],
   "source": [
    "df['Category of e-Vehicle'].value_counts()"
   ]
  },
  {
   "cell_type": "code",
   "execution_count": 195,
   "id": "1a53f3c7",
   "metadata": {},
   "outputs": [
    {
     "data": {
      "text/plain": [
       "2-wheeler    144\n",
       "4-wheeler     35\n",
       "Name: Type, dtype: int64"
      ]
     },
     "execution_count": 195,
     "metadata": {},
     "output_type": "execute_result"
    }
   ],
   "source": [
    "df['Type'].value_counts()"
   ]
  },
  {
   "cell_type": "code",
   "execution_count": 202,
   "id": "64de5368",
   "metadata": {},
   "outputs": [],
   "source": [
    "df_modified = pd.get_dummies(df, drop_first=True)"
   ]
  },
  {
   "cell_type": "code",
   "execution_count": 203,
   "id": "aea2be7c",
   "metadata": {},
   "outputs": [
    {
     "data": {
      "text/html": [
       "<div>\n",
       "<style scoped>\n",
       "    .dataframe tbody tr th:only-of-type {\n",
       "        vertical-align: middle;\n",
       "    }\n",
       "\n",
       "    .dataframe tbody tr th {\n",
       "        vertical-align: top;\n",
       "    }\n",
       "\n",
       "    .dataframe thead th {\n",
       "        text-align: right;\n",
       "    }\n",
       "</style>\n",
       "<table border=\"1\" class=\"dataframe\">\n",
       "  <thead>\n",
       "    <tr style=\"text-align: right;\">\n",
       "      <th></th>\n",
       "      <th>Rating</th>\n",
       "      <th>Model Name_Ampere Magnus Pro</th>\n",
       "      <th>Model Name_Ampere REO</th>\n",
       "      <th>Model Name_Ampere Zeal</th>\n",
       "      <th>Model Name_Ather 450X</th>\n",
       "      <th>Model Name_BGauss B8</th>\n",
       "      <th>Model Name_BYD E6</th>\n",
       "      <th>Model Name_Bajaj Chetak</th>\n",
       "      <th>Model Name_Benling Aura</th>\n",
       "      <th>Model Name_Bounce Infinity E1</th>\n",
       "      <th>...</th>\n",
       "      <th>Model Name_Techo Electra Emerge</th>\n",
       "      <th>Model Name_Techo Electra Raptor</th>\n",
       "      <th>Model Name_Tork Kratos</th>\n",
       "      <th>Model Name_Yo Drift</th>\n",
       "      <th>Model Name_e-bike Gen Nxt</th>\n",
       "      <th>Model Name_hyundai kona</th>\n",
       "      <th>Model Name_tata nexon ev</th>\n",
       "      <th>Model Name_tata tigor ev</th>\n",
       "      <th>Type_4-wheeler</th>\n",
       "      <th>Category of e-Vehicle_e-4W</th>\n",
       "    </tr>\n",
       "  </thead>\n",
       "  <tbody>\n",
       "    <tr>\n",
       "      <th>0</th>\n",
       "      <td>1.0</td>\n",
       "      <td>0</td>\n",
       "      <td>0</td>\n",
       "      <td>0</td>\n",
       "      <td>0</td>\n",
       "      <td>0</td>\n",
       "      <td>0</td>\n",
       "      <td>0</td>\n",
       "      <td>0</td>\n",
       "      <td>0</td>\n",
       "      <td>...</td>\n",
       "      <td>0</td>\n",
       "      <td>0</td>\n",
       "      <td>0</td>\n",
       "      <td>0</td>\n",
       "      <td>0</td>\n",
       "      <td>0</td>\n",
       "      <td>0</td>\n",
       "      <td>0</td>\n",
       "      <td>0</td>\n",
       "      <td>0</td>\n",
       "    </tr>\n",
       "    <tr>\n",
       "      <th>1</th>\n",
       "      <td>3.0</td>\n",
       "      <td>0</td>\n",
       "      <td>0</td>\n",
       "      <td>0</td>\n",
       "      <td>0</td>\n",
       "      <td>0</td>\n",
       "      <td>0</td>\n",
       "      <td>0</td>\n",
       "      <td>0</td>\n",
       "      <td>0</td>\n",
       "      <td>...</td>\n",
       "      <td>0</td>\n",
       "      <td>0</td>\n",
       "      <td>0</td>\n",
       "      <td>0</td>\n",
       "      <td>0</td>\n",
       "      <td>0</td>\n",
       "      <td>0</td>\n",
       "      <td>0</td>\n",
       "      <td>0</td>\n",
       "      <td>0</td>\n",
       "    </tr>\n",
       "    <tr>\n",
       "      <th>2</th>\n",
       "      <td>2.0</td>\n",
       "      <td>0</td>\n",
       "      <td>0</td>\n",
       "      <td>0</td>\n",
       "      <td>0</td>\n",
       "      <td>0</td>\n",
       "      <td>0</td>\n",
       "      <td>0</td>\n",
       "      <td>0</td>\n",
       "      <td>0</td>\n",
       "      <td>...</td>\n",
       "      <td>0</td>\n",
       "      <td>0</td>\n",
       "      <td>0</td>\n",
       "      <td>0</td>\n",
       "      <td>0</td>\n",
       "      <td>0</td>\n",
       "      <td>0</td>\n",
       "      <td>0</td>\n",
       "      <td>0</td>\n",
       "      <td>0</td>\n",
       "    </tr>\n",
       "    <tr>\n",
       "      <th>3</th>\n",
       "      <td>5.0</td>\n",
       "      <td>0</td>\n",
       "      <td>0</td>\n",
       "      <td>0</td>\n",
       "      <td>0</td>\n",
       "      <td>0</td>\n",
       "      <td>0</td>\n",
       "      <td>0</td>\n",
       "      <td>0</td>\n",
       "      <td>0</td>\n",
       "      <td>...</td>\n",
       "      <td>0</td>\n",
       "      <td>0</td>\n",
       "      <td>0</td>\n",
       "      <td>0</td>\n",
       "      <td>0</td>\n",
       "      <td>0</td>\n",
       "      <td>0</td>\n",
       "      <td>0</td>\n",
       "      <td>0</td>\n",
       "      <td>0</td>\n",
       "    </tr>\n",
       "    <tr>\n",
       "      <th>4</th>\n",
       "      <td>4.0</td>\n",
       "      <td>0</td>\n",
       "      <td>0</td>\n",
       "      <td>0</td>\n",
       "      <td>0</td>\n",
       "      <td>0</td>\n",
       "      <td>0</td>\n",
       "      <td>0</td>\n",
       "      <td>0</td>\n",
       "      <td>0</td>\n",
       "      <td>...</td>\n",
       "      <td>0</td>\n",
       "      <td>0</td>\n",
       "      <td>0</td>\n",
       "      <td>0</td>\n",
       "      <td>0</td>\n",
       "      <td>0</td>\n",
       "      <td>0</td>\n",
       "      <td>0</td>\n",
       "      <td>0</td>\n",
       "      <td>0</td>\n",
       "    </tr>\n",
       "  </tbody>\n",
       "</table>\n",
       "<p>5 rows × 49 columns</p>\n",
       "</div>"
      ],
      "text/plain": [
       "   Rating  Model Name_Ampere Magnus Pro  Model Name_Ampere REO  \\\n",
       "0     1.0                             0                      0   \n",
       "1     3.0                             0                      0   \n",
       "2     2.0                             0                      0   \n",
       "3     5.0                             0                      0   \n",
       "4     4.0                             0                      0   \n",
       "\n",
       "   Model Name_Ampere Zeal  Model Name_Ather 450X  Model Name_BGauss B8  \\\n",
       "0                       0                      0                     0   \n",
       "1                       0                      0                     0   \n",
       "2                       0                      0                     0   \n",
       "3                       0                      0                     0   \n",
       "4                       0                      0                     0   \n",
       "\n",
       "   Model Name_BYD E6  Model Name_Bajaj Chetak  Model Name_Benling Aura  \\\n",
       "0                  0                        0                        0   \n",
       "1                  0                        0                        0   \n",
       "2                  0                        0                        0   \n",
       "3                  0                        0                        0   \n",
       "4                  0                        0                        0   \n",
       "\n",
       "   Model Name_Bounce Infinity E1  ...  Model Name_Techo Electra Emerge  \\\n",
       "0                              0  ...                                0   \n",
       "1                              0  ...                                0   \n",
       "2                              0  ...                                0   \n",
       "3                              0  ...                                0   \n",
       "4                              0  ...                                0   \n",
       "\n",
       "   Model Name_Techo Electra Raptor  Model Name_Tork Kratos  \\\n",
       "0                                0                       0   \n",
       "1                                0                       0   \n",
       "2                                0                       0   \n",
       "3                                0                       0   \n",
       "4                                0                       0   \n",
       "\n",
       "   Model Name_Yo Drift  Model Name_e-bike Gen Nxt  Model Name_hyundai kona  \\\n",
       "0                    0                          0                        0   \n",
       "1                    0                          0                        0   \n",
       "2                    0                          0                        0   \n",
       "3                    0                          0                        0   \n",
       "4                    0                          0                        0   \n",
       "\n",
       "   Model Name_tata nexon ev  Model Name_tata tigor ev  Type_4-wheeler  \\\n",
       "0                         0                         0               0   \n",
       "1                         0                         0               0   \n",
       "2                         0                         0               0   \n",
       "3                         0                         0               0   \n",
       "4                         0                         0               0   \n",
       "\n",
       "   Category of e-Vehicle_e-4W  \n",
       "0                           0  \n",
       "1                           0  \n",
       "2                           0  \n",
       "3                           0  \n",
       "4                           0  \n",
       "\n",
       "[5 rows x 49 columns]"
      ]
     },
     "execution_count": 203,
     "metadata": {},
     "output_type": "execute_result"
    }
   ],
   "source": [
    "df_modified.head()"
   ]
  },
  {
   "cell_type": "code",
   "execution_count": 219,
   "id": "84ad06e6",
   "metadata": {},
   "outputs": [],
   "source": [
    "from sklearn.decomposition import PCA"
   ]
  },
  {
   "cell_type": "code",
   "execution_count": 220,
   "id": "4c66eadc",
   "metadata": {},
   "outputs": [],
   "source": [
    "pca = PCA(n_components=2)"
   ]
  },
  {
   "cell_type": "code",
   "execution_count": 226,
   "id": "019b8f13",
   "metadata": {},
   "outputs": [],
   "source": [
    "def do_pca(data : pd.DataFrame) -> np.ndarray:\n",
    "    principalComponents = pca.fit_transform(data)\n",
    "    df1 = pd.DataFrame(data = principalComponents, columns = ['principal component 1', 'principal component 2'])\n",
    "    df1.set_index(data.index)\n",
    "    return df1"
   ]
  },
  {
   "cell_type": "code",
   "execution_count": 227,
   "id": "d4f798de",
   "metadata": {},
   "outputs": [],
   "source": [
    "df1 = do_pca(df_modified)"
   ]
  },
  {
   "cell_type": "code",
   "execution_count": 228,
   "id": "8e0a7efe",
   "metadata": {},
   "outputs": [
    {
     "data": {
      "text/html": [
       "<div>\n",
       "<style scoped>\n",
       "    .dataframe tbody tr th:only-of-type {\n",
       "        vertical-align: middle;\n",
       "    }\n",
       "\n",
       "    .dataframe tbody tr th {\n",
       "        vertical-align: top;\n",
       "    }\n",
       "\n",
       "    .dataframe thead th {\n",
       "        text-align: right;\n",
       "    }\n",
       "</style>\n",
       "<table border=\"1\" class=\"dataframe\">\n",
       "  <thead>\n",
       "    <tr style=\"text-align: right;\">\n",
       "      <th></th>\n",
       "      <th>principal component 1</th>\n",
       "      <th>principal component 2</th>\n",
       "    </tr>\n",
       "  </thead>\n",
       "  <tbody>\n",
       "    <tr>\n",
       "      <th>0</th>\n",
       "      <td>2.200562</td>\n",
       "      <td>-0.259053</td>\n",
       "    </tr>\n",
       "    <tr>\n",
       "      <th>1</th>\n",
       "      <td>0.201410</td>\n",
       "      <td>-0.290361</td>\n",
       "    </tr>\n",
       "    <tr>\n",
       "      <th>2</th>\n",
       "      <td>1.200986</td>\n",
       "      <td>-0.274707</td>\n",
       "    </tr>\n",
       "    <tr>\n",
       "      <th>3</th>\n",
       "      <td>-1.797741</td>\n",
       "      <td>-0.321669</td>\n",
       "    </tr>\n",
       "    <tr>\n",
       "      <th>4</th>\n",
       "      <td>-0.798166</td>\n",
       "      <td>-0.306015</td>\n",
       "    </tr>\n",
       "  </tbody>\n",
       "</table>\n",
       "</div>"
      ],
      "text/plain": [
       "   principal component 1  principal component 2\n",
       "0               2.200562              -0.259053\n",
       "1               0.201410              -0.290361\n",
       "2               1.200986              -0.274707\n",
       "3              -1.797741              -0.321669\n",
       "4              -0.798166              -0.306015"
      ]
     },
     "execution_count": 228,
     "metadata": {},
     "output_type": "execute_result"
    }
   ],
   "source": [
    "df1.head()"
   ]
  },
  {
   "cell_type": "code",
   "execution_count": 229,
   "id": "1d5554ed",
   "metadata": {},
   "outputs": [],
   "source": [
    "from sklearn import neighbors\n",
    "from sklearn.cluster import KMeans"
   ]
  },
  {
   "cell_type": "code",
   "execution_count": 232,
   "id": "8d93a8a6",
   "metadata": {},
   "outputs": [],
   "source": [
    "wcss = []\n",
    "for i in range(1,11):\n",
    "  model = KMeans(n_clusters = i, init = \"k-means++\")\n",
    "  model.fit(df1)\n",
    "  wcss.append(model.inertia_)"
   ]
  },
  {
   "cell_type": "code",
   "execution_count": 243,
   "id": "1de4fab8",
   "metadata": {},
   "outputs": [
    {
     "data": {
      "image/png": "[encoded data removed]",
      "text/plain": [
       "<Figure size 360x360 with 1 Axes>"
      ]
     },
     "metadata": {
      "needs_background": "light"
     },
     "output_type": "display_data"
    }
   ],
   "source": [
    "plt.figure(figsize=(5,5))\n",
    "plt.plot(range(1,11), wcss)\n",
    "plt.xlabel('Number of clusters')\n",
    "plt.ylabel('WCSS')\n",
    "plt.show()"
   ]
  },
  {
   "cell_type": "code",
   "execution_count": 266,
   "id": "d97b8c94",
   "metadata": {},
   "outputs": [
    {
     "name": "stdout",
     "output_type": "stream",
     "text": [
      "[2 1 2 0 1 2 0 1 1 2 0 1 2 0 2 1 1 2 2 0 1 2 2 1 0 1 2 1 0 1 2 0 2 1 2 0 1\n",
      " 2 2 0 1 1 2 0 1 2 1 2 0 1 2 1 0 2 1 0 1 2 2 2 1 0 2 1 2 0 1 2 1 2 0 1 2 2\n",
      " 1 0 1 2 0 1 2 1 0 0 1 1 2 0 0 2 1 2 1 0 0 0 2 1 2 1 1 0 2 2 1 1 0 0 1 1 2\n",
      " 2 1 2 1 0 1 0 2 2 0 2 1 1 1 2 2 0 2 0 0 0 2 1 0 2 1 1 2 1 0 2 0 1 0 2 1 0\n",
      " 0 0 1 0 1 1 1 0 2 2 2 0 0 1 1 0 0 1 0 2 1 2 1 0 2 1 2 0 2 2 1]\n"
     ]
    }
   ],
   "source": [
    "model1 = KMeans(n_clusters = 3, init = \"k-means++\", max_iter=300, n_init=10,random_state=0)\n",
    "Y = model1.fit_predict(df1)\n",
    "print(Y)"
   ]
  },
  {
   "cell_type": "code",
   "execution_count": 269,
   "id": "9fdc3861",
   "metadata": {
    "scrolled": true
   },
   "outputs": [
    {
     "ename": "InvalidIndexError",
     "evalue": "(array([False, False, False,  True, False, False,  True, False, False,\n       False,  True, False, False,  True, False, False, False, False,\n       False,  True, False, False, False, False,  True, False, False,\n       False,  True, False, False,  True, False, False, False,  True,\n       False, False, False,  True, False, False, False,  True, False,\n       False, False, False,  True, False, False, False,  True, False,\n       False,  True, False, False, False, False, False,  True, False,\n       False, False,  True, False, False, False, False,  True, False,\n       False, False, False,  True, False, False,  True, False, False,\n       False,  True,  True, False, False, False,  True,  True, False,\n       False, False, False,  True,  True,  True, False, False, False,\n       False, False,  True, False, False, False, False,  True,  True,\n       False, False, False, False, False, False, False,  True, False,\n        True, False, False,  True, False, False, False, False, False,\n       False,  True, False,  True,  True,  True, False, False,  True,\n       False, False, False, False, False,  True, False,  True, False,\n        True, False, False,  True,  True,  True, False,  True, False,\n       False, False,  True, False, False, False,  True,  True, False,\n       False,  True,  True, False,  True, False, False, False, False,\n        True, False, False, False,  True, False, False, False]), 0)",
     "output_type": "error",
     "traceback": [
      "\u001b[1;31m---------------------------------------------------------------------------\u001b[0m",
      "\u001b[1;31mTypeError\u001b[0m                                 Traceback (most recent call last)",
      "File \u001b[1;32m~\\anaconda3\\lib\\site-packages\\pandas\\core\\indexes\\base.py:3621\u001b[0m, in \u001b[0;36mIndex.get_loc\u001b[1;34m(self, key, method, tolerance)\u001b[0m\n\u001b[0;32m   3620\u001b[0m \u001b[38;5;28;01mtry\u001b[39;00m:\n\u001b[1;32m-> 3621\u001b[0m     \u001b[38;5;28;01mreturn\u001b[39;00m \u001b[38;5;28;43mself\u001b[39;49m\u001b[38;5;241;43m.\u001b[39;49m\u001b[43m_engine\u001b[49m\u001b[38;5;241;43m.\u001b[39;49m\u001b[43mget_loc\u001b[49m\u001b[43m(\u001b[49m\u001b[43mcasted_key\u001b[49m\u001b[43m)\u001b[49m\n\u001b[0;32m   3622\u001b[0m \u001b[38;5;28;01mexcept\u001b[39;00m \u001b[38;5;167;01mKeyError\u001b[39;00m \u001b[38;5;28;01mas\u001b[39;00m err:\n",
      "File \u001b[1;32m~\\anaconda3\\lib\\site-packages\\pandas\\_libs\\index.pyx:136\u001b[0m, in \u001b[0;36mpandas._libs.index.IndexEngine.get_loc\u001b[1;34m()\u001b[0m\n",
      "File \u001b[1;32m~\\anaconda3\\lib\\site-packages\\pandas\\_libs\\index.pyx:142\u001b[0m, in \u001b[0;36mpandas._libs.index.IndexEngine.get_loc\u001b[1;34m()\u001b[0m\n",
      "\u001b[1;31mTypeError\u001b[0m: '(array([False, False, False,  True, False, False,  True, False, False,\n       False,  True, False, False,  True, False, False, False, False,\n       False,  True, False, False, False, False,  True, False, False,\n       False,  True, False, False,  True, False, False, False,  True,\n       False, False, False,  True, False, False, False,  True, False,\n       False, False, False,  True, False, False, False,  True, False,\n       False,  True, False, False, False, False, False,  True, False,\n       False, False,  True, False, False, False, False,  True, False,\n       False, False, False,  True, False, False,  True, False, False,\n       False,  True,  True, False, False, False,  True,  True, False,\n       False, False, False,  True,  True,  True, False, False, False,\n       False, False,  True, False, False, False, False,  True,  True,\n       False, False, False, False, False, False, False,  True, False,\n        True, False, False,  True, False, False, False, False, False,\n       False,  True, False,  True,  True,  True, False, False,  True,\n       False, False, False, False, False,  True, False,  True, False,\n        True, False, False,  True,  True,  True, False,  True, False,\n       False, False,  True, False, False, False,  True,  True, False,\n       False,  True,  True, False,  True, False, False, False, False,\n        True, False, False, False,  True, False, False, False]), 0)' is an invalid key",
      "\nDuring handling of the above exception, another exception occurred:\n",
      "\u001b[1;31mInvalidIndexError\u001b[0m                         Traceback (most recent call last)",
      "Input \u001b[1;32mIn [269]\u001b[0m, in \u001b[0;36m<cell line: 2>\u001b[1;34m()\u001b[0m\n\u001b[0;32m      1\u001b[0m plt\u001b[38;5;241m.\u001b[39mfigure(figsize\u001b[38;5;241m=\u001b[39m(\u001b[38;5;241m10\u001b[39m,\u001b[38;5;241m10\u001b[39m))\n\u001b[1;32m----> 2\u001b[0m plt\u001b[38;5;241m.\u001b[39mscatter(\u001b[43mdf1\u001b[49m\u001b[43m[\u001b[49m\u001b[43mY\u001b[49m\u001b[43m \u001b[49m\u001b[38;5;241;43m==\u001b[39;49m\u001b[43m \u001b[49m\u001b[38;5;241;43m0\u001b[39;49m\u001b[43m \u001b[49m\u001b[43m,\u001b[49m\u001b[43m \u001b[49m\u001b[38;5;241;43m0\u001b[39;49m\u001b[43m]\u001b[49m , df1[Y \u001b[38;5;241m==\u001b[39m \u001b[38;5;241m0\u001b[39m , \u001b[38;5;241m1\u001b[39m] , label \u001b[38;5;241m=\u001b[39m \u001b[38;5;124m'\u001b[39m\u001b[38;5;124mcluster_1\u001b[39m\u001b[38;5;124m'\u001b[39m)\n\u001b[0;32m      3\u001b[0m plt\u001b[38;5;241m.\u001b[39mscatter(df1[Y \u001b[38;5;241m==\u001b[39m \u001b[38;5;241m1\u001b[39m , \u001b[38;5;241m0\u001b[39m] , df1[Y \u001b[38;5;241m==\u001b[39m \u001b[38;5;241m1\u001b[39m , \u001b[38;5;241m1\u001b[39m] , label \u001b[38;5;241m=\u001b[39m \u001b[38;5;124m'\u001b[39m\u001b[38;5;124mcluster_2\u001b[39m\u001b[38;5;124m'\u001b[39m)\n\u001b[0;32m      4\u001b[0m plt\u001b[38;5;241m.\u001b[39mscatter(df1[Y \u001b[38;5;241m==\u001b[39m \u001b[38;5;241m2\u001b[39m , \u001b[38;5;241m0\u001b[39m] , df1[Y \u001b[38;5;241m==\u001b[39m \u001b[38;5;241m2\u001b[39m , \u001b[38;5;241m1\u001b[39m] , label \u001b[38;5;241m=\u001b[39m \u001b[38;5;124m'\u001b[39m\u001b[38;5;124mcluster_3\u001b[39m\u001b[38;5;124m'\u001b[39m)\n",
      "File \u001b[1;32m~\\anaconda3\\lib\\site-packages\\pandas\\core\\frame.py:3505\u001b[0m, in \u001b[0;36mDataFrame.__getitem__\u001b[1;34m(self, key)\u001b[0m\n\u001b[0;32m   3503\u001b[0m \u001b[38;5;28;01mif\u001b[39;00m \u001b[38;5;28mself\u001b[39m\u001b[38;5;241m.\u001b[39mcolumns\u001b[38;5;241m.\u001b[39mnlevels \u001b[38;5;241m>\u001b[39m \u001b[38;5;241m1\u001b[39m:\n\u001b[0;32m   3504\u001b[0m     \u001b[38;5;28;01mreturn\u001b[39;00m \u001b[38;5;28mself\u001b[39m\u001b[38;5;241m.\u001b[39m_getitem_multilevel(key)\n\u001b[1;32m-> 3505\u001b[0m indexer \u001b[38;5;241m=\u001b[39m \u001b[38;5;28;43mself\u001b[39;49m\u001b[38;5;241;43m.\u001b[39;49m\u001b[43mcolumns\u001b[49m\u001b[38;5;241;43m.\u001b[39;49m\u001b[43mget_loc\u001b[49m\u001b[43m(\u001b[49m\u001b[43mkey\u001b[49m\u001b[43m)\u001b[49m\n\u001b[0;32m   3506\u001b[0m \u001b[38;5;28;01mif\u001b[39;00m is_integer(indexer):\n\u001b[0;32m   3507\u001b[0m     indexer \u001b[38;5;241m=\u001b[39m [indexer]\n",
      "File \u001b[1;32m~\\anaconda3\\lib\\site-packages\\pandas\\core\\indexes\\base.py:3628\u001b[0m, in \u001b[0;36mIndex.get_loc\u001b[1;34m(self, key, method, tolerance)\u001b[0m\n\u001b[0;32m   3623\u001b[0m         \u001b[38;5;28;01mraise\u001b[39;00m \u001b[38;5;167;01mKeyError\u001b[39;00m(key) \u001b[38;5;28;01mfrom\u001b[39;00m \u001b[38;5;21;01merr\u001b[39;00m\n\u001b[0;32m   3624\u001b[0m     \u001b[38;5;28;01mexcept\u001b[39;00m \u001b[38;5;167;01mTypeError\u001b[39;00m:\n\u001b[0;32m   3625\u001b[0m         \u001b[38;5;66;03m# If we have a listlike key, _check_indexing_error will raise\u001b[39;00m\n\u001b[0;32m   3626\u001b[0m         \u001b[38;5;66;03m#  InvalidIndexError. Otherwise we fall through and re-raise\u001b[39;00m\n\u001b[0;32m   3627\u001b[0m         \u001b[38;5;66;03m#  the TypeError.\u001b[39;00m\n\u001b[1;32m-> 3628\u001b[0m         \u001b[38;5;28;43mself\u001b[39;49m\u001b[38;5;241;43m.\u001b[39;49m\u001b[43m_check_indexing_error\u001b[49m\u001b[43m(\u001b[49m\u001b[43mkey\u001b[49m\u001b[43m)\u001b[49m\n\u001b[0;32m   3629\u001b[0m         \u001b[38;5;28;01mraise\u001b[39;00m\n\u001b[0;32m   3631\u001b[0m \u001b[38;5;66;03m# GH#42269\u001b[39;00m\n",
      "File \u001b[1;32m~\\anaconda3\\lib\\site-packages\\pandas\\core\\indexes\\base.py:5637\u001b[0m, in \u001b[0;36mIndex._check_indexing_error\u001b[1;34m(self, key)\u001b[0m\n\u001b[0;32m   5633\u001b[0m \u001b[38;5;28;01mdef\u001b[39;00m \u001b[38;5;21m_check_indexing_error\u001b[39m(\u001b[38;5;28mself\u001b[39m, key):\n\u001b[0;32m   5634\u001b[0m     \u001b[38;5;28;01mif\u001b[39;00m \u001b[38;5;129;01mnot\u001b[39;00m is_scalar(key):\n\u001b[0;32m   5635\u001b[0m         \u001b[38;5;66;03m# if key is not a scalar, directly raise an error (the code below\u001b[39;00m\n\u001b[0;32m   5636\u001b[0m         \u001b[38;5;66;03m# would convert to numpy arrays and raise later any way) - GH29926\u001b[39;00m\n\u001b[1;32m-> 5637\u001b[0m         \u001b[38;5;28;01mraise\u001b[39;00m InvalidIndexError(key)\n",
      "\u001b[1;31mInvalidIndexError\u001b[0m: (array([False, False, False,  True, False, False,  True, False, False,\n       False,  True, False, False,  True, False, False, False, False,\n       False,  True, False, False, False, False,  True, False, False,\n       False,  True, False, False,  True, False, False, False,  True,\n       False, False, False,  True, False, False, False,  True, False,\n       False, False, False,  True, False, False, False,  True, False,\n       False,  True, False, False, False, False, False,  True, False,\n       False, False,  True, False, False, False, False,  True, False,\n       False, False, False,  True, False, False,  True, False, False,\n       False,  True,  True, False, False, False,  True,  True, False,\n       False, False, False,  True,  True,  True, False, False, False,\n       False, False,  True, False, False, False, False,  True,  True,\n       False, False, False, False, False, False, False,  True, False,\n        True, False, False,  True, False, False, False, False, False,\n       False,  True, False,  True,  True,  True, False, False,  True,\n       False, False, False, False, False,  True, False,  True, False,\n        True, False, False,  True,  True,  True, False,  True, False,\n       False, False,  True, False, False, False,  True,  True, False,\n       False,  True,  True, False,  True, False, False, False, False,\n        True, False, False, False,  True, False, False, False]), 0)"
     ]
    },
    {
     "data": {
      "text/plain": [
       "<Figure size 720x720 with 0 Axes>"
      ]
     },
     "metadata": {},
     "output_type": "display_data"
    }
   ],
   "source": [
    "plt.figure(figsize=(10,10))\n",
    "plt.scatter(df1[Y == 0 , 0] , df1[Y == 0 , 1] , label = 'cluster_1')\n",
    "plt.scatter(df1[Y == 1 , 0] , df1[Y == 1 , 1] , label = 'cluster_2')\n",
    "plt.scatter(df1[Y == 2 , 0] , df1[Y == 2 , 1] , label = 'cluster_3')\n",
    "plt.legend()\n",
    "plt.show()"
   ]
  },
  {
   "cell_type": "code",
   "execution_count": null,
   "id": "c944f1d2",
   "metadata": {},
   "outputs": [],
   "source": []
  }
 ],
 "metadata": {
  "kernelspec": {
   "display_name": "Python 3 (ipykernel)",
   "language": "python",
   "name": "python3"
  },
  "language_info": {
   "codemirror_mode": {
    "name": "ipython",
    "version": 3
   },
   "file_extension": ".py",
   "mimetype": "text/x-python",
   "name": "python",
   "nbconvert_exporter": "python",
   "pygments_lexer": "ipython3",
   "version": "3.9.12"
  }
 },
 "nbformat": 4,
 "nbformat_minor": 5
}
