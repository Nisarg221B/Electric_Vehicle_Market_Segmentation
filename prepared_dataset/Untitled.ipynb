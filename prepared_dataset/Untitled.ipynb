{
 "cells": [
  {
   "cell_type": "code",
   "execution_count": 89,
   "id": "6f349165",
   "metadata": {},
   "outputs": [],
   "source": [
    "import json\n",
    "import pandas as pd"
   ]
  },
  {
   "cell_type": "code",
   "execution_count": 90,
   "id": "f72edd7d",
   "metadata": {},
   "outputs": [],
   "source": [
    "with open('EV Related Data collected from vari.txt') as f:\n",
    "    x = f.read().split('\\n\\n')"
   ]
  },
  {
   "cell_type": "code",
   "execution_count": 91,
   "id": "64ef1b54",
   "metadata": {},
   "outputs": [
    {
     "data": {
      "text/plain": [
       "['- 101\\n\\t- year - 2022\\n\\t- description - EV companies registered with number of vehicle sold by the company till 2022',\n",
       " '- 102\\n\\t- year - 2023\\n\\t- description - total charging stations sanctioned by gov till 2023 state wise',\n",
       " '- 103\\n\\t- year - 2022\\n\\t- description - number of charging facilities available up till 2022 ',\n",
       " '- 104\\n\\t- year - 2015\\n\\t- description - contains the sales of all types of automobiles till 2015 category wise ',\n",
       " '- 105\\n\\t- year - 2022\\n\\t- description - Comprises of total electric and non electric vehicle sales as on April 2022 state wise',\n",
       " '- 106\\n\\t- year - 2022\\n\\t- description - comprises of total operating charging stations with their type and precise location city wise.',\n",
       " '- 107\\n\\t- year - 2021\\n\\t- description - State wise Electric Vehicles Supported under Faster Adoption and Manufacturing of Electric and Hybrid Vehicles in India (FAME-India) Scheme as on 09-12-2021',\n",
       " '- 108\\n\\t- year - 2022\\n\\t- description - The data has been scraped from bikewale for 2-wheeler EV, contains user preferences.',\n",
       " '- 109\\n\\t- year - 2022\\n\\t- description - The data has been scraped from car wale for 4-wheeler EV , contains user preferences.',\n",
       " '- 110\\n\\t- year - nan\\n\\t- description - ratings of different ev company products.',\n",
       " '- 111\\n\\t- year - 2015\\n\\t- description - consumers data purchasing automobile.',\n",
       " '- 112\\n\\t- year - nan\\n\\t- description - state wise classification of type of automobiles with their numbers.']"
      ]
     },
     "execution_count": 91,
     "metadata": {},
     "output_type": "execute_result"
    }
   ],
   "source": [
    "x"
   ]
  },
  {
   "cell_type": "code",
   "execution_count": 92,
   "id": "2e79d806",
   "metadata": {},
   "outputs": [],
   "source": [
    "l1 =[]\n",
    "for item in x:\n",
    "    l1.append(item.split('\\n\\t'))"
   ]
  },
  {
   "cell_type": "code",
   "execution_count": 93,
   "id": "516d0df9",
   "metadata": {},
   "outputs": [
    {
     "data": {
      "text/plain": [
       "[['- 101',\n",
       "  '- year - 2022',\n",
       "  '- description - EV companies registered with number of vehicle sold by the company till 2022'],\n",
       " ['- 102',\n",
       "  '- year - 2023',\n",
       "  '- description - total charging stations sanctioned by gov till 2023 state wise'],\n",
       " ['- 103',\n",
       "  '- year - 2022',\n",
       "  '- description - number of charging facilities available up till 2022 '],\n",
       " ['- 104',\n",
       "  '- year - 2015',\n",
       "  '- description - contains the sales of all types of automobiles till 2015 category wise '],\n",
       " ['- 105',\n",
       "  '- year - 2022',\n",
       "  '- description - Comprises of total electric and non electric vehicle sales as on April 2022 state wise'],\n",
       " ['- 106',\n",
       "  '- year - 2022',\n",
       "  '- description - comprises of total operating charging stations with their type and precise location city wise.'],\n",
       " ['- 107',\n",
       "  '- year - 2021',\n",
       "  '- description - State wise Electric Vehicles Supported under Faster Adoption and Manufacturing of Electric and Hybrid Vehicles in India (FAME-India) Scheme as on 09-12-2021'],\n",
       " ['- 108',\n",
       "  '- year - 2022',\n",
       "  '- description - The data has been scraped from bikewale for 2-wheeler EV, contains user preferences.'],\n",
       " ['- 109',\n",
       "  '- year - 2022',\n",
       "  '- description - The data has been scraped from car wale for 4-wheeler EV , contains user preferences.'],\n",
       " ['- 110',\n",
       "  '- year - nan',\n",
       "  '- description - ratings of different ev company products.'],\n",
       " ['- 111',\n",
       "  '- year - 2015',\n",
       "  '- description - consumers data purchasing automobile.'],\n",
       " ['- 112',\n",
       "  '- year - nan',\n",
       "  '- description - state wise classification of type of automobiles with their numbers.']]"
      ]
     },
     "execution_count": 93,
     "metadata": {},
     "output_type": "execute_result"
    }
   ],
   "source": [
    "l1"
   ]
  },
  {
   "cell_type": "code",
   "execution_count": 94,
   "id": "c68ac5eb",
   "metadata": {},
   "outputs": [],
   "source": [
    "df = pd.DataFrame(columns=['year', 'description'])"
   ]
  },
  {
   "cell_type": "code",
   "execution_count": 95,
   "id": "1442d5df",
   "metadata": {},
   "outputs": [],
   "source": [
    "\n",
    "for item in l1:\n",
    "    a = item[0].replace('- ','')\n",
    "    try:\n",
    "        b = int(item[1].replace('- year - ',''))\n",
    "    except:\n",
    "        b = item[1].replace('- year - ','')\n",
    "    c = item[2].replace('- description - ','')\n",
    "    df.loc[a] = [b, c]"
   ]
  },
  {
   "cell_type": "code",
   "execution_count": 96,
   "id": "7954d163",
   "metadata": {},
   "outputs": [
    {
     "data": {
      "text/html": [
       "<div>\n",
       "<style scoped>\n",
       "    .dataframe tbody tr th:only-of-type {\n",
       "        vertical-align: middle;\n",
       "    }\n",
       "\n",
       "    .dataframe tbody tr th {\n",
       "        vertical-align: top;\n",
       "    }\n",
       "\n",
       "    .dataframe thead th {\n",
       "        text-align: right;\n",
       "    }\n",
       "</style>\n",
       "<table border=\"1\" class=\"dataframe\">\n",
       "  <thead>\n",
       "    <tr style=\"text-align: right;\">\n",
       "      <th></th>\n",
       "      <th>year</th>\n",
       "      <th>description</th>\n",
       "    </tr>\n",
       "  </thead>\n",
       "  <tbody>\n",
       "    <tr>\n",
       "      <th>101</th>\n",
       "      <td>2022</td>\n",
       "      <td>EV companies registered with number of vehicle...</td>\n",
       "    </tr>\n",
       "    <tr>\n",
       "      <th>102</th>\n",
       "      <td>2023</td>\n",
       "      <td>total charging stations sanctioned by gov till...</td>\n",
       "    </tr>\n",
       "    <tr>\n",
       "      <th>103</th>\n",
       "      <td>2022</td>\n",
       "      <td>number of charging facilities available up til...</td>\n",
       "    </tr>\n",
       "    <tr>\n",
       "      <th>104</th>\n",
       "      <td>2015</td>\n",
       "      <td>contains the sales of all types of automobiles...</td>\n",
       "    </tr>\n",
       "    <tr>\n",
       "      <th>105</th>\n",
       "      <td>2022</td>\n",
       "      <td>Comprises of total electric and non electric v...</td>\n",
       "    </tr>\n",
       "    <tr>\n",
       "      <th>106</th>\n",
       "      <td>2022</td>\n",
       "      <td>comprises of total operating charging stations...</td>\n",
       "    </tr>\n",
       "    <tr>\n",
       "      <th>107</th>\n",
       "      <td>2021</td>\n",
       "      <td>State wise Electric Vehicles Supported under F...</td>\n",
       "    </tr>\n",
       "    <tr>\n",
       "      <th>108</th>\n",
       "      <td>2022</td>\n",
       "      <td>The data has been scraped from bikewale for 2-...</td>\n",
       "    </tr>\n",
       "    <tr>\n",
       "      <th>109</th>\n",
       "      <td>2022</td>\n",
       "      <td>The data has been scraped from car wale for 4-...</td>\n",
       "    </tr>\n",
       "    <tr>\n",
       "      <th>110</th>\n",
       "      <td>nan</td>\n",
       "      <td>ratings of different ev company products.</td>\n",
       "    </tr>\n",
       "    <tr>\n",
       "      <th>111</th>\n",
       "      <td>2015</td>\n",
       "      <td>consumers data purchasing automobile.</td>\n",
       "    </tr>\n",
       "    <tr>\n",
       "      <th>112</th>\n",
       "      <td>nan</td>\n",
       "      <td>state wise classification of type of automobil...</td>\n",
       "    </tr>\n",
       "  </tbody>\n",
       "</table>\n",
       "</div>"
      ],
      "text/plain": [
       "     year                                        description\n",
       "101  2022  EV companies registered with number of vehicle...\n",
       "102  2023  total charging stations sanctioned by gov till...\n",
       "103  2022  number of charging facilities available up til...\n",
       "104  2015  contains the sales of all types of automobiles...\n",
       "105  2022  Comprises of total electric and non electric v...\n",
       "106  2022  comprises of total operating charging stations...\n",
       "107  2021  State wise Electric Vehicles Supported under F...\n",
       "108  2022  The data has been scraped from bikewale for 2-...\n",
       "109  2022  The data has been scraped from car wale for 4-...\n",
       "110   nan          ratings of different ev company products.\n",
       "111  2015              consumers data purchasing automobile.\n",
       "112   nan  state wise classification of type of automobil..."
      ]
     },
     "execution_count": 96,
     "metadata": {},
     "output_type": "execute_result"
    }
   ],
   "source": [
    "df"
   ]
  },
  {
   "cell_type": "code",
   "execution_count": 97,
   "id": "7490bb5d",
   "metadata": {},
   "outputs": [
    {
     "data": {
      "text/html": [
       "<div>\n",
       "<style scoped>\n",
       "    .dataframe tbody tr th:only-of-type {\n",
       "        vertical-align: middle;\n",
       "    }\n",
       "\n",
       "    .dataframe tbody tr th {\n",
       "        vertical-align: top;\n",
       "    }\n",
       "\n",
       "    .dataframe thead th {\n",
       "        text-align: right;\n",
       "    }\n",
       "</style>\n",
       "<table border=\"1\" class=\"dataframe\">\n",
       "  <thead>\n",
       "    <tr style=\"text-align: right;\">\n",
       "      <th></th>\n",
       "      <th>101</th>\n",
       "      <th>102</th>\n",
       "      <th>103</th>\n",
       "      <th>104</th>\n",
       "      <th>105</th>\n",
       "      <th>106</th>\n",
       "      <th>107</th>\n",
       "      <th>108</th>\n",
       "      <th>109</th>\n",
       "      <th>110</th>\n",
       "      <th>111</th>\n",
       "      <th>112</th>\n",
       "    </tr>\n",
       "  </thead>\n",
       "  <tbody>\n",
       "    <tr>\n",
       "      <th>year</th>\n",
       "      <td>2022</td>\n",
       "      <td>2023</td>\n",
       "      <td>2022</td>\n",
       "      <td>2015</td>\n",
       "      <td>2022</td>\n",
       "      <td>2022</td>\n",
       "      <td>2021</td>\n",
       "      <td>2022</td>\n",
       "      <td>2022</td>\n",
       "      <td>nan</td>\n",
       "      <td>2015</td>\n",
       "      <td>nan</td>\n",
       "    </tr>\n",
       "    <tr>\n",
       "      <th>description</th>\n",
       "      <td>EV companies registered with number of vehicle...</td>\n",
       "      <td>total charging stations sanctioned by gov till...</td>\n",
       "      <td>number of charging facilities available up til...</td>\n",
       "      <td>contains the sales of all types of automobiles...</td>\n",
       "      <td>Comprises of total electric and non electric v...</td>\n",
       "      <td>comprises of total operating charging stations...</td>\n",
       "      <td>State wise Electric Vehicles Supported under F...</td>\n",
       "      <td>The data has been scraped from bikewale for 2-...</td>\n",
       "      <td>The data has been scraped from car wale for 4-...</td>\n",
       "      <td>ratings of different ev company products.</td>\n",
       "      <td>consumers data purchasing automobile.</td>\n",
       "      <td>state wise classification of type of automobil...</td>\n",
       "    </tr>\n",
       "  </tbody>\n",
       "</table>\n",
       "</div>"
      ],
      "text/plain": [
       "                                                           101  \\\n",
       "year                                                      2022   \n",
       "description  EV companies registered with number of vehicle...   \n",
       "\n",
       "                                                           102  \\\n",
       "year                                                      2023   \n",
       "description  total charging stations sanctioned by gov till...   \n",
       "\n",
       "                                                           103  \\\n",
       "year                                                      2022   \n",
       "description  number of charging facilities available up til...   \n",
       "\n",
       "                                                           104  \\\n",
       "year                                                      2015   \n",
       "description  contains the sales of all types of automobiles...   \n",
       "\n",
       "                                                           105  \\\n",
       "year                                                      2022   \n",
       "description  Comprises of total electric and non electric v...   \n",
       "\n",
       "                                                           106  \\\n",
       "year                                                      2022   \n",
       "description  comprises of total operating charging stations...   \n",
       "\n",
       "                                                           107  \\\n",
       "year                                                      2021   \n",
       "description  State wise Electric Vehicles Supported under F...   \n",
       "\n",
       "                                                           108  \\\n",
       "year                                                      2022   \n",
       "description  The data has been scraped from bikewale for 2-...   \n",
       "\n",
       "                                                           109  \\\n",
       "year                                                      2022   \n",
       "description  The data has been scraped from car wale for 4-...   \n",
       "\n",
       "                                                   110  \\\n",
       "year                                               nan   \n",
       "description  ratings of different ev company products.   \n",
       "\n",
       "                                               111  \\\n",
       "year                                          2015   \n",
       "description  consumers data purchasing automobile.   \n",
       "\n",
       "                                                           112  \n",
       "year                                                       nan  \n",
       "description  state wise classification of type of automobil...  "
      ]
     },
     "execution_count": 97,
     "metadata": {},
     "output_type": "execute_result"
    }
   ],
   "source": [
    "df.T"
   ]
  },
  {
   "cell_type": "code",
   "execution_count": 98,
   "id": "a5883c2f",
   "metadata": {},
   "outputs": [
    {
     "data": {
      "text/plain": [
       "[{'year': 2022,\n",
       "  'description': 'EV companies registered with number of vehicle sold by the company till 2022'},\n",
       " {'year': 2023,\n",
       "  'description': 'total charging stations sanctioned by gov till 2023 state wise'},\n",
       " {'year': 2022,\n",
       "  'description': 'number of charging facilities available up till 2022 '},\n",
       " {'year': 2015,\n",
       "  'description': 'contains the sales of all types of automobiles till 2015 category wise '},\n",
       " {'year': 2022,\n",
       "  'description': 'Comprises of total electric and non electric vehicle sales as on April 2022 state wise'},\n",
       " {'year': 2022,\n",
       "  'description': 'comprises of total operating charging stations with their type and precise location city wise.'},\n",
       " {'year': 2021,\n",
       "  'description': 'State wise Electric Vehicles Supported under Faster Adoption and Manufacturing of Electric and Hybrid Vehicles in India (FAME-India) Scheme as on 09-12-2021'},\n",
       " {'year': 2022,\n",
       "  'description': 'The data has been scraped from bikewale for 2-wheeler EV, contains user preferences.'},\n",
       " {'year': 2022,\n",
       "  'description': 'The data has been scraped from car wale for 4-wheeler EV , contains user preferences.'},\n",
       " {'year': 'nan', 'description': 'ratings of different ev company products.'},\n",
       " {'year': 2015, 'description': 'consumers data purchasing automobile.'},\n",
       " {'year': 'nan',\n",
       "  'description': 'state wise classification of type of automobiles with their numbers.'}]"
      ]
     },
     "execution_count": 98,
     "metadata": {},
     "output_type": "execute_result"
    }
   ],
   "source": [
    "list(json.loads(df.T.to_json()).values())"
   ]
  },
  {
   "cell_type": "code",
   "execution_count": 99,
   "id": "7bba1374",
   "metadata": {},
   "outputs": [
    {
     "data": {
      "text/plain": [
       "Index(['101', '102', '103', '104', '105', '106', '107', '108', '109', '110',\n",
       "       '111', '112'],\n",
       "      dtype='object')"
      ]
     },
     "execution_count": 99,
     "metadata": {},
     "output_type": "execute_result"
    }
   ],
   "source": [
    "df.index"
   ]
  },
  {
   "cell_type": "code",
   "execution_count": 100,
   "id": "705c3e81",
   "metadata": {},
   "outputs": [],
   "source": [
    "jsons = {}\n",
    "for i in range(len(df.index)):\n",
    "    value = list(json.loads(df.T.to_json()).values())[i]\n",
    "    jsons[df.index[i]] = value"
   ]
  },
  {
   "cell_type": "code",
   "execution_count": 101,
   "id": "c3a0faa9",
   "metadata": {},
   "outputs": [],
   "source": [
    "with open('data_description_json1.json', 'w') as f:\n",
    "    json.dump(jsons, f)"
   ]
  },
  {
   "cell_type": "code",
   "execution_count": null,
   "id": "8c0bfc48",
   "metadata": {},
   "outputs": [],
   "source": []
  }
 ],
 "metadata": {
  "kernelspec": {
   "display_name": "Python 3 (ipykernel)",
   "language": "python",
   "name": "python3"
  },
  "language_info": {
   "codemirror_mode": {
    "name": "ipython",
    "version": 3
   },
   "file_extension": ".py",
   "mimetype": "text/x-python",
   "name": "python",
   "nbconvert_exporter": "python",
   "pygments_lexer": "ipython3",
   "version": "3.9.12"
  }
 },
 "nbformat": 4,
 "nbformat_minor": 5
}
